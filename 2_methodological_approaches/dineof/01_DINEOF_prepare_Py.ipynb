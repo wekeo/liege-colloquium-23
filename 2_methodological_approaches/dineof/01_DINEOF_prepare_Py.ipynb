{
 "cells": [
  {
   "cell_type": "markdown",
   "metadata": {},
   "source": [
    "# DINEOF Preprocessing of data\n",
    "\n",
    "In this script we will:\n",
    "\n",
    "* Read initial data file\n",
    "* Create land-sea mask\n",
    "* Write results to a new file to be used in DINEOF"
   ]
  },
  {
   "cell_type": "code",
   "execution_count": 4,
   "metadata": {},
   "outputs": [],
   "source": [
    "from netCDF4 import Dataset\n",
    "import matplotlib.pyplot as plt"
   ]
  },
  {
   "cell_type": "code",
   "execution_count": 5,
   "metadata": {},
   "outputs": [
    {
     "name": "stdout",
     "output_type": "stream",
     "text": [
      "dict_keys(['sea_surface_temperature', 'time', 'lat', 'lon', 'source_of_sst'])\n"
     ]
    }
   ],
   "source": [
    "filename = \"SST_MED_SST_L3S_NRT_OBSERVATIONS_010_012_a_1683020945106.nc\"\n",
    "ds = Dataset(filename, \"r\");\n",
    "print(ds.variables.keys())"
   ]
  },
  {
   "cell_type": "code",
   "execution_count": 6,
   "metadata": {},
   "outputs": [],
   "source": [
    "sst = ds.variables['sea_surface_temperature'][:]-273.15\n",
    "lat = ds.variables['lat'][:]\n",
    "lon = ds.variables['lon'][:]\n",
    "time = ds.variables['time'][:]; #\"seconds since 1981-01-01 00:00:00\""
   ]
  },
  {
   "cell_type": "code",
   "execution_count": 7,
   "metadata": {},
   "outputs": [
    {
     "name": "stdout",
     "output_type": "stream",
     "text": [
      "<class 'netCDF4._netCDF4.Variable'>\n",
      "int32 time(time)\n",
      "    long_name: reference time of sst field\n",
      "    standard_name: time\n",
      "    axis: T\n",
      "    calendar: Gregorian\n",
      "    units: seconds since 1981-01-01 00:00:00\n",
      "    comment: Nominal time of Level 4 analysis\n",
      "    _CoordinateAxisType: Time\n",
      "unlimited dimensions: \n",
      "current shape = (92,)\n",
      "filling on, default _FillValue of -2147483647 used\n"
     ]
    }
   ],
   "source": [
    "mt = ds.variables['time']\n",
    "print(mt)"
   ]
  },
  {
   "cell_type": "code",
   "execution_count": 8,
   "metadata": {},
   "outputs": [
    {
     "data": {
      "text/plain": [
       "1306972800"
      ]
     },
     "execution_count": 8,
     "metadata": {},
     "output_type": "execute_result"
    }
   ],
   "source": [
    "time[1]\n"
   ]
  },
  {
   "cell_type": "code",
   "execution_count": 9,
   "metadata": {},
   "outputs": [],
   "source": [
    "#sst = sst[:] - 273.15;"
   ]
  },
  {
   "cell_type": "code",
   "execution_count": 18,
   "metadata": {},
   "outputs": [
    {
     "data": {
      "text/plain": [
       "(<matplotlib.collections.QuadMesh at 0x7f468f268e80>,\n",
       " <matplotlib.colorbar.Colorbar at 0x7f468f1b0ac0>)"
      ]
     },
     "execution_count": 18,
     "metadata": {},
     "output_type": "execute_result"
    },
    {
     "data": {
      "image/png": "[encoded data removed]",
      "text/plain": [
       "<Figure size 432x288 with 2 Axes>"
      ]
     },
     "metadata": {
      "needs_background": "light"
     },
     "output_type": "display_data"
    }
   ],
   "source": [
    "plt.pcolormesh(sst[60,:,:]),plt.colorbar()"
   ]
  },
  {
   "cell_type": "code",
   "execution_count": 11,
   "metadata": {},
   "outputs": [
    {
     "data": {
      "text/plain": [
       "<matplotlib.colorbar.Colorbar at 0x7f468f5d2460>"
      ]
     },
     "execution_count": 11,
     "metadata": {},
     "output_type": "execute_result"
    },
    {
     "data": {
      "image/png": "[encoded data removed]",
      "text/plain": [
       "<Figure size 432x288 with 2 Axes>"
      ]
     },
     "metadata": {
      "needs_background": "light"
     },
     "output_type": "display_data"
    }
   ],
   "source": [
    "#make mask\n",
    "plt.pcolormesh(sst.mask.mean(axis=0));plt.colorbar()"
   ]
  },
  {
   "cell_type": "code",
   "execution_count": 12,
   "metadata": {},
   "outputs": [
    {
     "data": {
      "text/plain": [
       "<matplotlib.colorbar.Colorbar at 0x7f468f45c700>"
      ]
     },
     "execution_count": 12,
     "metadata": {},
     "output_type": "execute_result"
    },
    {
     "data": {
      "image/png": "[encoded data removed]",
      "text/plain": [
       "<Figure size 432x288 with 2 Axes>"
      ]
     },
     "metadata": {
      "needs_background": "light"
     },
     "output_type": "display_data"
    }
   ],
   "source": [
    "mask = sst.mask.mean(axis=0)<0.98;\n",
    "plt.pcolor(mask*1.);plt.colorbar()"
   ]
  },
  {
   "cell_type": "code",
   "execution_count": 13,
   "metadata": {},
   "outputs": [],
   "source": [
    "#write in netcdf file\n",
    "\n",
    "dsw = Dataset(\"sst_L3_Alboran_2022_py.nc\", \"w\", format=\"NETCDF4\");\n",
    "latw = dsw.createDimension(\"lat\", len(lat))\n",
    "lonw = dsw.createDimension(\"lon\", len(lon))\n",
    "timew = dsw.createDimension(\"time\", len(time))\n",
    "\n",
    "latitude = dsw.createVariable(\"lat\",\"f8\",(\"lat\",))\n",
    "longitude = dsw.createVariable(\"lon\",\"f8\",(\"lon\",))\n",
    "timet = dsw.createVariable(\"time\",\"f8\",(\"time\",))\n",
    "\n",
    "temp = dsw.createVariable(\"SST\",\"f4\",(\"time\",\"lat\",\"lon\",),fill_value=-9999)\n",
    "ncmask = dsw.createVariable(\"mask\",\"i4\",(\"lat\",\"lon\",))\n",
    "\n",
    "latitude[:] = lat\n",
    "longitude[:] = lon\n",
    "timet[:] = time/24/60/60;\n",
    "temp[:] = sst;\n",
    "ncmask[:] = mask;\n",
    "\n",
    "temp.units = \"degC\"\n",
    "timet.units = \"days since 1981-01-01\";\n",
    "\n",
    "dsw.close();\n"
   ]
  },
  {
   "cell_type": "code",
   "execution_count": 14,
   "metadata": {},
   "outputs": [
    {
     "data": {
      "text/plain": [
       "'1.6.3'"
      ]
     },
     "execution_count": 14,
     "metadata": {},
     "output_type": "execute_result"
    }
   ],
   "source": [
    "import netCDF4\n",
    "netCDF4.__version__"
   ]
  },
  {
   "cell_type": "code",
   "execution_count": null,
   "metadata": {},
   "outputs": [],
   "source": []
  }
 ],
 "metadata": {
  "kernelspec": {
   "display_name": "Python 3",
   "language": "python",
   "name": "python3"
  },
  "language_info": {
   "codemirror_mode": {
    "name": "ipython",
    "version": 3
   },
   "file_extension": ".py",
   "mimetype": "text/x-python",
   "name": "python",
   "nbconvert_exporter": "python",
   "pygments_lexer": "ipython3",
   "version": "3.8.10"
  }
 },
 "nbformat": 4,
 "nbformat_minor": 4
}

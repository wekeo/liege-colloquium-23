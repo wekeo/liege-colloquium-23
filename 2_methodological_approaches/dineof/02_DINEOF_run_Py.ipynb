{
 "cells": [
  {
   "cell_type": "markdown",
   "metadata": {},
   "source": [
    "<img src='https://gitlab.eumetsat.int/eumetlab/oceans/ocean-training/tools/frameworks/-/raw/main/img/Standard_banner.png' align='right' width='100%'/>"
   ]
  },
  {
   "cell_type": "markdown",
   "metadata": {},
   "source": [
    "<a href=\"../../Index.ipynb\"><< Index</a>\n",
    "<br>\n",
    "<a href=\"./01_DINEOF_prepare_Py.ipynb\" target=\"_blank\"><< DINEOF preparation</a>&nbsp;&nbsp;&nbsp;&nbsp;&nbsp;<a href=\"./03_DINEOF_results_Py.ipynb\" target=\"_blank\">DINEOF results >></a>"
   ]
  },
  {
   "cell_type": "markdown",
   "metadata": {},
   "source": [
    "<font color=\"#138D75\">**Copernicus Marine Training Service**</font> <br>\n",
    "**Copyright:** 2023 EUMETSAT <br>\n",
    "**License:** MIT <br>\n",
    "**Authors:** Ben Loveday (EUMETSAT/Innoflair UG), Hayley Evers-King (EUMETSAT), Aida Alvera-Azcárate (GHER)."
   ]
  },
  {
   "cell_type": "markdown",
   "metadata": {},
   "source": [
    "<div class=\"alert alert-block alert-success\">\n",
    "<h3>Liege Colloquium 2023</h3></div>"
   ]
  },
  {
   "cell_type": "markdown",
   "metadata": {},
   "source": [
    "<div class=\"alert alert-block alert-warning\">\n",
    "    \n",
    "<b>PREREQUISITES </b>\n",
    "\n",
    "The following modules are prerequisites for this notebook:\n",
    "  - **<a href=\"./01_DINEOF_prepare_Py.ipynb\">DINEOF preparation</a>**\n",
    "</div>\n",
    "<hr>"
   ]
  },
  {
   "cell_type": "markdown",
   "metadata": {},
   "source": [
    "# 2. Running DINEOF\n",
    "\n",
    "In this script we are going to:\n",
    "* Prepare the input file to run DINEOF. We need to enter:\n",
    "    1. File names (data, mask, time vector)\n",
    "    2. Temporal covariance filter length\n",
    "    3. Minimum and maximum number of EOFs to calculate\n",
    "    4. Output filename and location\n",
    "    5. Other options\n",
    "    \n",
    "* Run DINEOF !!"
   ]
  },
  {
   "cell_type": "code",
   "execution_count": null,
   "metadata": {},
   "outputs": [],
   "source": [
    "import os\n",
    "import subprocess"
   ]
  },
  {
   "cell_type": "code",
   "execution_count": null,
   "metadata": {},
   "outputs": [],
   "source": [
    "config_file = \"dineof_Alboran_2022_py.init\"\n",
    "output_file = \"output_py.txt\""
   ]
  },
  {
   "cell_type": "code",
   "execution_count": 1,
   "metadata": {},
   "outputs": [],
   "source": [
    "# We open the file dineof.init where all information necessary for DINEOF must be specified\n",
    "# You can also edit this file in a simple editor, you do not need to do it here.\n",
    "\n",
    "f = open(config_file, \"w\")\n",
    "\n",
    "f.write(\"\"\"\n",
    "!\n",
    "! INPUT File for dineof 2.0\n",
    "!\n",
    "! Lines starting with a ! or # are comments\n",
    "!\n",
    "\n",
    "!--------------DATA FILE----------------------------------------------\n",
    "! Gappy data to fill with DINEOF. For several matrices, separate names with commas \n",
    "! Example:  \n",
    "!          data = ['seacoos2005.avhrr','seacoos2005.chl']\n",
    "\n",
    "data = ['sst_L3_Alboran_2022_py.nc#SST']\n",
    "\n",
    "\n",
    "\n",
    "!--------------MASK FILE----------------------------------------------\n",
    "! Land-sea mask of the gappy data. \n",
    "! Several masks can be especified, separated by commas:\n",
    "! Example : \n",
    "!           mask = ['seacoos2005.avhrr.mask','seacoos2005.chl.mask']\n",
    "!\n",
    "! When no mask is especified (comment out the maskfile line), \n",
    "!                      no land points are present in the initial file\n",
    "\n",
    "mask = ['sst_L3_Alboran_2022_py.nc#mask']\n",
    "\n",
    "!---------------------------------------------------------------------\n",
    "\n",
    "\n",
    "!--------------Time file for temporal filter--------------------------------\n",
    "!setup temporal filter, two parameters need to be given, alpha and numit\n",
    "        \n",
    "! time: time vector, indicating the increment between time steps in data file (must have same time dimension as data file)\n",
    "! alpha: parameter specifying the strength of the filter\n",
    "! numit: number of iterations for the filter\n",
    "! See http://www.ocean-sci.net/5/475/2009/os-5-475-2009.pdf for more information\n",
    "        \n",
    "!To know the length of the filter,  2*pi sqrt(alpha*numit)\n",
    "!For example, 2*pi * sqrt(0.01*3) = 1.09 days filter (in case of daily time step)\n",
    "!alpha=0 deactivates the filter\n",
    "\n",
    "time = 'sst_L3_Alboran_2022_py.nc#time'\n",
    "!alpha = 0.01\n",
    "!numit = 10\n",
    "\n",
    "alpha = 0.1\n",
    "numit = 1\n",
    "\n",
    "!--------------Minimum and maximum EOFs to calculate--------------------------------\n",
    "! Sets the numerical variables for the computation of the required\n",
    "! singular values and associated modes.\n",
    "!\n",
    "! Give 'nev' the maximum number of modes you want to compute \n",
    "\n",
    "nev = 50\n",
    "\n",
    "! Give 'neini' the minimum  number of modes you want to compute \n",
    "\n",
    "neini = 1\n",
    "\n",
    "! Give 'ncv' the maximal size for the Krylov subspace \n",
    "! (Do not change it as soon as ncv > nev+5) \n",
    "! ncv must also be smaller than the temporal size of your matrix\n",
    "\n",
    "ncv = 55\n",
    "\n",
    "!--------------Other information ----------------------------------------------\n",
    "! numbers given are default, you can try with these to begin with\n",
    "! Give 'tol' the treshold for Lanczos convergence \n",
    "! By default 1.e-8 is quite reasonable \n",
    "\n",
    "tol = 1.0e-8\n",
    "\n",
    "! Parameter 'nitemax' defining the maximum number of iteration allowed for the stabilisation of eofs obtained by the cycle ((eof decomposition <-> truncated reconstruction and replacement of missing data)). An automatic criteria is defined by the following parameter 'itstop' to go faster \n",
    "\n",
    "nitemax = 350\n",
    "\n",
    "! Parameter 'toliter' is a precision criteria defining the threshold of automatic stopping of dineof iterations, once the ratio (rms of successive missing data reconstruction)/stdv(existing data) becomes lower than 'toliter'. \n",
    "\n",
    "toliter = 1.0e-3\n",
    "\n",
    "        \n",
    "!--------------Type of reconstruction--------------------------------------------\n",
    "! Parameter 'rec' for complete reconstruction of the matrix \n",
    "! rec=1 will reconstruct all points; rec=0 only missing points\n",
    "\n",
    "rec = 1\n",
    "\n",
    "!--------------Cross-validation points file---------------------------------------\n",
    "! user chosen cross-validation points, \n",
    "! remove or comment-out the following entry if the cross-validation points are to be chosen \n",
    "! internally\n",
    "!\n",
    "! clouds = 'clouds3.8.index'\n",
    "! clouds = 'clouds_indexAlboran2022.nc#clouds_index'\n",
    "        \n",
    "\n",
    "!--------------Normalisation of input variables-----------------------------------\n",
    "! Parameter 'norm' to activate the normalisation of the input matrix\n",
    "!for multivariate case. Disabled by default. To activate, set to 1\n",
    "\n",
    "norm = 0\n",
    "     \n",
    "        \n",
    "!--------------Output -----------------------------------        \n",
    "! Parameter 'eof' for writing the left and right modes of the\n",
    "!input matrix. Disabled by default. To activate, set to 1\n",
    "\n",
    "eof = 1\n",
    "\n",
    "\n",
    "\n",
    "! Output folder. Some output files from DINEOF will be written here     \n",
    "!\n",
    "\n",
    "Output = './'\n",
    "!Output = 'OutputSST/'\n",
    "\n",
    "!\n",
    "! \"results\" contains the filenames of the filled data\n",
    "!\n",
    "\n",
    "!results = ['All_95_1of2.sst.filled']\n",
    "\n",
    "results = ['sst_L4_dineof_Alboran_2022_py.nc#sst_filled']\n",
    "\n",
    "! seed to initialize the random number generator\n",
    "\n",
    "seed = 243435\n",
    "\n",
    "!File to write EOFs\n",
    "EOF.U = ['eof.nc#Usst']\n",
    "EOF.V = 'eof.nc#V'\n",
    "EOF.Sigma = 'eof.nc#Sigma'\n",
    "\n",
    "\n",
    "!\n",
    "! END OF PARAMETER FILE \n",
    "!\n",
    "\"\"\")\n",
    "f.close()"
   ]
  },
  {
   "cell_type": "code",
   "execution_count": 2,
   "metadata": {},
   "outputs": [
    {
     "data": {
      "text/plain": [
       "CompletedProcess(args=['/home/aalvera/src/DINEOF/dineof', 'dineof_Alboran_2022_py.init'], returncode=0)"
      ]
     },
     "execution_count": 2,
     "metadata": {},
     "output_type": "execute_result"
    }
   ],
   "source": [
    "f2 = open(output_file, \"w\")\n",
    "dineof_exe = os.path.join(os.path.dirname(os.path.abspath(__file__)), 'dineof')\n",
    "subprocess.run([dineof_exe, config_file], stdout=f2)"
   ]
  },
  {
   "cell_type": "markdown",
   "metadata": {},
   "source": [
    "<hr>\n",
    "<a href=\"../../Index.ipynb\"><< Index</a>\n",
    "<br>\n",
    "<a href=\"./01_DINEOF_prepare_Py.ipynb\" target=\"_blank\"><< DINEOF preparation</a>&nbsp;&nbsp;&nbsp;&nbsp;&nbsp;<a href=\"./03_DINEOF_results_Py.ipynb\" target=\"_blank\">DINEOF results >></a>\n",
    "<hr>\n",
    "<a href=\"https://github.com/wekeo/liege-colloquium-23\" target=\"_blank\">View on GitHub</a> | <a href=\"https://training.eumetsat.int/\" target=\"_blank\">EUMETSAT Training</a> | <a href=mailto:ops@eumetsat.int target=\"_blank\">Contact helpdesk for support </a> | <a href=mailto:Copernicus.training@eumetsat.int target=\"_blank\">Contact our training team to collaborate on and reuse this material</a></span></p>"
   ]
  },
  {
   "cell_type": "code",
   "execution_count": null,
   "metadata": {},
   "outputs": [],
   "source": []
  }
 ],
 "metadata": {
  "kernelspec": {
   "display_name": "Python 3 (ipykernel)",
   "language": "python",
   "name": "python3"
  },
  "language_info": {
   "codemirror_mode": {
    "name": "ipython",
    "version": 3
   },
   "file_extension": ".py",
   "mimetype": "text/x-python",
   "name": "python",
   "nbconvert_exporter": "python",
   "pygments_lexer": "ipython3",
   "version": "3.9.16"
  }
 },
 "nbformat": 4,
 "nbformat_minor": 4
}

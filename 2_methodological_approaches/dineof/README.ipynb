{
 "cells": [
  {
   "cell_type": "markdown",
   "id": "ed996c93-a6c5-4e81-81d1-0aec1330752c",
   "metadata": {},
   "source": [
    "<img src='https://gitlab.eumetsat.int/eumetlab/oceans/ocean-training/tools/frameworks/-/raw/main/img/Standard_banner.png' align='right' width='100%'/>"
   ]
  },
  {
   "cell_type": "markdown",
   "id": "31c49676-6b68-4d1d-bdad-de9e794a1116",
   "metadata": {},
   "source": [
    "<font color=\"#138D75\">**Copernicus Marine Training Service**</font> <br>\n",
    "**Copyright:** 2023 EUMETSAT <br>\n",
    "**License:** MIT <br>\n",
    "**Authors:** Ben Loveday (EUMETSAT/Innoflair UG), Hayley Evers-King (EUMETSAT), Aida Alvera-Azcárate (GHER)."
   ]
  },
  {
   "cell_type": "markdown",
   "id": "04c2e8ec-c86d-4829-b549-e0756f9f6b66",
   "metadata": {},
   "source": [
    "<div class=\"alert alert-block alert-success\">\n",
    "<h3>Liege Colloquium 2023</h3></div>"
   ]
  },
  {
   "cell_type": "markdown",
   "id": "76a40eb0-fb66-49b2-b28d-cd17f2e1445c",
   "metadata": {},
   "source": [
    "# DINEOF\n",
    "\n",
    "DINEOF is an EOF-based method to fill in missing data from geophysical fields, such as clouds in sea surface temperature.\n",
    "\n",
    "For more information on how DINEOF works, please refer to <a href=\"https://www.sciencedirect.com/science/article/abs/pii/S1463500304000472\" target=\"_blank\">Alvera-Azcarate et al. (2005)</a> and <a href=\"https://journals.ametsoc.org/view/journals/atot/20/12/1520-0426_2003_020_1839_ecadff_2_0_co_2.xml\" target=\"_blank\">Beckers and Rixen (2003)</a>. The multivariate application of DINEOF is explained in <a href=\"https://agupubs.onlinelibrary.wiley.com/doi/full/10.1029/2006JC003660\" target=\"_blank\">Alvera-Azcarate et al. (2007)</a>, and in <a href=\"https://os.copernicus.org/articles/2/183/2006/\" target=\"_blank\">Beckers et al. (2006)</a> the error calculation using an optimal interpolation approach is explained. If you need a copy of any of these papers, don't hesitate to contact us! For more information about the Lanczos solver, see <a href=\"https://journals.ametsoc.org/view/journals/mwre/129/5/1520-0493_2001_129_1243_ualeit_2.0.co_2.xml?tab_body=fulltext-display\" target=\"_blank\">Toumazou and Cretaux (2001)</a>.\n",
    "\n",
    "In this folder you will find a set up Jupyter Notebooks designed to help you set up, run, and check the output of a DINEOF reconstruction. If you are new to the technique, please work through the notebooks in order."
   ]
  },
  {
   "cell_type": "markdown",
   "id": "e5a4ebe8-d2c9-4b83-af7c-6dd397df06b5",
   "metadata": {},
   "source": [
    "<div class=\"alert alert-info\" role=\"alert\">\n",
    "\n",
    "## <a id='TOC_TOP'></a>Contents\n",
    "\n",
    "</div>\n",
    "This folder contains three notebooks:\n",
    "\n",
    "1. <a href=\"./01_DINEOF_prepare_Py.ipynb\" target=\"_blank\">01_DINEOF_prepare_Py</a> sets up the data for the DINEOF run.\n",
    "1. <a href=\"./02_DINEOF_run_Py.ipynb\" target=\"_blank\">02_DINEOF_run_Py</a> performs the DINEOF reconstruction.\n",
    "1. <a href=\"./03_DINEOF_results_Py.ipynb\" target=\"_blank\">03_DINEOF_results_Py</a> assesses the results of the reconstruction \n",
    "\n",
    "In addition, you will find the `dineof` binary file. This is compiled for Linux, and will not run on other platforms. If you wish to build your own DINEOF binary, please see the <a href=\"https://github.com/aida-alvera/DINEOF\n",
    "\" target=\"_blank\">GitHub respository</a> for the toolkit."
   ]
  },
  {
   "cell_type": "markdown",
   "id": "d1f8b99f-ceaa-4d1e-bc6b-42a217d244c9",
   "metadata": {},
   "source": [
    "<hr>\n",
    "<a href=\"https://github.com/wekeo/liege-colloquium-23\">View on GitHub</a> | <a href=\"https://training.eumetsat.int/\">EUMETSAT Training</a> | <a href=mailto:ops@eumetsat.int>Contact helpdesk for support </a> | <a href=mailto:Copernicus.training@eumetsat.int>Contact our training team to collaborate on and reuse this material</a></span></p>"
   ]
  }
 ],
 "metadata": {
  "kernelspec": {
   "display_name": "Python 3 (ipykernel)",
   "language": "python",
   "name": "python3"
  },
  "language_info": {
   "codemirror_mode": {
    "name": "ipython",
    "version": 3
   },
   "file_extension": ".py",
   "mimetype": "text/x-python",
   "name": "python",
   "nbconvert_exporter": "python",
   "pygments_lexer": "ipython3",
   "version": "3.9.16"
  }
 },
 "nbformat": 4,
 "nbformat_minor": 5
}

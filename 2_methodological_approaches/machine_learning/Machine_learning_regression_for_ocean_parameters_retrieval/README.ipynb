{
 "cells": [
  {
   "cell_type": "markdown",
   "id": "fbd95140-74ce-4a1e-bc3d-2adf2627595e",
   "metadata": {},
   "source": [
    "# Machine Learning Regression for Ocean Parameters retrieval\n",
    "\n",
    "Regression approaches for ocean parameter retrievals.\n",
    "\n",
    "This repository contains the code used in the paper: Ana B Ruescas, Gonzalo Mateo-Garcia, Gustau Camps-Valls, Martin Hieronymi. Retrieval of case 2 water quality parameters with machine learning. IGARSS 2018-2018 IEEE International Geoscience and Remote Sensing Symposium\n",
    "\n",
    "The repository contains:\n",
    "* Notebook \"1. Load_and_visualize_data.ipynb\" that reads the dataset and performs the training of the models (15 KB)\n",
    "* Notebook \"2. Statistics_analysis.ipynb\" that analyses the results of the models using metrics and plots to understand the accuracy and uncertainties (391 KB)\n",
    "* Notebook \"3. WQ_predict_image.ipynb\" that applies the models to OLCI L2 images, focused on the C2RCC products (198 KB)\n",
    "\n",
    "Scripts: the folder \"ml\" contains helper functions (64 KB)\n",
    "1. \"data_load_S3.py\" loads the data set for training and testing\n",
    "2. \"models.py\" \n",
    "3. \"ml_regression.py\" train and save the proposed models with the different combination of bands\n",
    "4. \"c2_processing.py\" loads a Sentinel-3 image and apply a trained model to the data\n",
    "5. \"Py4R_plots.py\" with function for plotting\n",
    "\n",
    "OLCI images are stored in the folder S3Images"
   ]
  },
  {
   "cell_type": "code",
   "execution_count": null,
   "id": "64b5577a-3adb-4c1a-bd2c-48cea77f7ebf",
   "metadata": {},
   "outputs": [],
   "source": []
  }
 ],
 "metadata": {
  "kernelspec": {
   "display_name": "Python 3 (ipykernel)",
   "language": "python",
   "name": "python3"
  },
  "language_info": {
   "codemirror_mode": {
    "name": "ipython",
    "version": 3
   },
   "file_extension": ".py",
   "mimetype": "text/x-python",
   "name": "python",
   "nbconvert_exporter": "python",
   "pygments_lexer": "ipython3",
   "version": "3.9.16"
  }
 },
 "nbformat": 4,
 "nbformat_minor": 5
}

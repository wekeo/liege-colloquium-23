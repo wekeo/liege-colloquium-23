{
 "cells": [
  {
   "cell_type": "markdown",
   "id": "4c05da75-9085-44f8-96ee-781179e6f5d4",
   "metadata": {},
   "source": [
    "<img src='https://gitlab.eumetsat.int/eumetlab/oceans/ocean-training/tools/frameworks/-/raw/main/img/Standard_banner.png' align='right' width='100%'/>"
   ]
  },
  {
   "cell_type": "markdown",
   "id": "424446fb-895b-4182-9589-ff3344f27d45",
   "metadata": {},
   "source": [
    "<a href=\"../../../Index.ipynb\"><< Index</a>\n",
    "<br>\n",
    "<a href=\"./1_Load_and_visualize_data.ipynb\">Load and visualise data >></a>"
   ]
  },
  {
   "cell_type": "markdown",
   "id": "f95ce016-dbe9-436e-8647-27991849d1b5",
   "metadata": {},
   "source": [
    "<font color=\"#138D75\">**Copernicus Marine Training Service**</font> <br>\n",
    "**Copyright:** 2023 EUMETSAT <br>\n",
    "**License:** MIT <br>\n",
    "**Authors:** Ben Loveday (EUMETSAT/Innoflair UG), Hayley Evers-King (EUMETSAT), Ana Ruescas (Brockmann Consult GmbH / University of Valencia)."
   ]
  },
  {
   "cell_type": "markdown",
   "id": "3d07a040-bf03-4fde-8475-d09e98c256a1",
   "metadata": {},
   "source": [
    "<div class=\"alert alert-block alert-success\">\n",
    "<h3>Liege Colloquium 2023</h3></div>"
   ]
  },
  {
   "cell_type": "markdown",
   "id": "fbd95140-74ce-4a1e-bc3d-2adf2627595e",
   "metadata": {},
   "source": [
    "# Machine Learning Regression for Ocean Parameters retrieval\n",
    "\n",
    "Regression approaches for ocean parameter retrievals.\n",
    "\n",
    "This repository contains the code used in <a href=\"https://ieeexplore.ieee.org/document/8518810\" target=\"_blank\">Ruescas at al. (2018)</a>. Please consult the paper for more technical information on the methodology."
   ]
  },
  {
   "cell_type": "markdown",
   "id": "f7fa6d8c-6482-4612-b44d-3b8692778228",
   "metadata": {},
   "source": [
    "<div class=\"alert alert-info\" role=\"alert\">\n",
    "\n",
    "## <a id='TOC_TOP'></a>Contents\n",
    "\n",
    "</div>\n",
    "The folder contains three notebooks:\n",
    "\n",
    "1. <a href=\"./Load_and_visualize_data.ipynb\" target=\"_blank\">Load_and_visualize_data</a> reads the dataset and performs the training of the models.\n",
    "2. <a href=\"./Statistics_analysis.ipynb\" target=\"_blank\">Statistics_analysis</a> analyses the results of the models using metrics and plots to understand the accuracy and uncertainties.\n",
    "3. <a href=\"./WQ_predict_image.ipynb\" target=\"_blank\">WQ_predict_image</a> applies the models to OLCI L2 images, focused on the C2RCC products.\n",
    "\n",
    "In addition, you will find the following helper functions in the \"ml\" folder:\n",
    "\n",
    "1. `data_load_S3.py` loads the data set for training and testing.\n",
    "2. `models.py`; the core of the model.\n",
    "3. `ml_regression.py` train and save the proposed models with the different combination of bands.\n",
    "4. `c2_processing.py` loads a Sentinel-3 image and apply a trained model to the data.\n",
    "5. `Py4R_plots.py` with function for plotting.\n",
    "\n",
    "OLCI images are stored in the Support_data folder. This data is retrived in the third notebook."
   ]
  },
  {
   "cell_type": "markdown",
   "id": "988a09eb-ad8f-41fd-bfa5-74a310b0eafe",
   "metadata": {},
   "source": [
    "<hr>\n",
    "<a href=\"../../../Index.ipynb\"><< Index</a>\n",
    "<br>\n",
    "<a href=\"./1_Load_and_visualize_data.ipynb\">Load and visualise data >></a>\n",
    "<hr>\n",
    "<a href=\"https://github.com/wekeo/liege-colloquium-23\" target=\"_blank\">View on GitHub</a> | <a href=\"https://training.eumetsat.int/\" target=\"_blank\">EUMETSAT Training</a> | <a href=mailto:ops@eumetsat.int target=\"_blank\">Contact helpdesk for support </a> | <a href=mailto:Copernicus.training@eumetsat.int target=\"_blank\">Contact our training team to collaborate on and reuse this material</a></span></p>"
   ]
  }
 ],
 "metadata": {
  "kernelspec": {
   "display_name": "Python 3 (ipykernel)",
   "language": "python",
   "name": "python3"
  },
  "language_info": {
   "codemirror_mode": {
    "name": "ipython",
    "version": 3
   },
   "file_extension": ".py",
   "mimetype": "text/x-python",
   "name": "python",
   "nbconvert_exporter": "python",
   "pygments_lexer": "ipython3",
   "version": "3.9.16"
  }
 },
 "nbformat": 4,
 "nbformat_minor": 5
}

{
 "cells": [
  {
   "cell_type": "markdown",
   "metadata": {},
   "source": [
    "## Table of Contents\n",
    "* [Load S3 image](#Load-S3-image)\n",
    "* [Show ratio1 band](#Show-ratio1-band)\n",
    "* [Load the model and make predictions on the S3 image](#Load-the-model-and-make-predictions-on-the-S3-image)\n",
    "* [Make standard deviation preds with GPR model](#Make-standard-deviation-preds-with-GPR-model)\n",
    "* [Save preds to `envi`](#Save-preds-to-envi)"
   ]
  },
  {
   "cell_type": "code",
   "execution_count": 1,
   "metadata": {},
   "outputs": [
    {
     "name": "stderr",
     "output_type": "stream",
     "text": [
      "/var/folders/p5/fdfmn2t168g0s422k3fb2zdw0000gn/T/ipykernel_87261/1947092208.py:9: DeprecationWarning: the imp module is deprecated in favour of importlib; see the module's documentation for alternative uses\n",
      "  from imp import reload\n"
     ]
    }
   ],
   "source": [
    "from ml import c2_processing\n",
    "from ml.c2_processing import load_S3_image_C2RCC\n",
    "from ml import data_load_S3\n",
    "from ml import models\n",
    "import numpy as np\n",
    "import matplotlib.pyplot as plt\n",
    "import os\n",
    "import joblib\n",
    "from imp import reload\n",
    "import warnings\n",
    "warnings.filterwarnings(\"ignore\")"
   ]
  },
  {
   "cell_type": "markdown",
   "metadata": {},
   "source": [
    "## Load S3 image \n",
    "[Table of Contents](#Table-of-Contents)"
   ]
  },
  {
   "cell_type": "code",
   "execution_count": 2,
   "metadata": {},
   "outputs": [
    {
     "ename": "FileNotFoundError",
     "evalue": "[Errno 2] No such file or directory: '/home/ana/Downloads/mlregocean_cdom_ar-main/mlregocean_github/S3Images/subset_0_of_S3A_OL_1_EFR____20160524T090953_20160524T091153_20170930T000736_0119_004_264______MR1_R_NT_002.data/rrs_1.hdr'",
     "output_type": "error",
     "traceback": [
      "\u001b[0;31m---------------------------------------------------------------------------\u001b[0m",
      "\u001b[0;31mFileNotFoundError\u001b[0m                         Traceback (most recent call last)",
      "Cell \u001b[0;32mIn[2], line 3\u001b[0m\n\u001b[1;32m      1\u001b[0m \u001b[38;5;66;03m##Read the images from the S3Images folder (include whole path with directory)\u001b[39;00m\n\u001b[1;32m      2\u001b[0m s3image_path \u001b[38;5;241m=\u001b[39m \u001b[38;5;124m\"\u001b[39m\u001b[38;5;124m/home/ana/Downloads/mlregocean_cdom_ar-main/mlregocean_github/S3Images/subset_0_of_S3A_OL_1_EFR____20160524T090953_20160524T091153_20170930T000736_0119_004_264______MR1_R_NT_002.data\u001b[39m\u001b[38;5;124m\"\u001b[39m\n\u001b[0;32m----> 3\u001b[0m img \u001b[38;5;241m=\u001b[39m \u001b[43mc2_processing\u001b[49m\u001b[38;5;241;43m.\u001b[39;49m\u001b[43mload_S3_image_C2RCC\u001b[49m\u001b[43m(\u001b[49m\u001b[43mimage_path\u001b[49m\u001b[38;5;241;43m=\u001b[39;49m\u001b[43ms3image_path\u001b[49m\u001b[43m)\u001b[49m\n\u001b[1;32m      4\u001b[0m img\u001b[38;5;241m.\u001b[39mshape\n",
      "File \u001b[0;32m~/Code/Git_Reps/CMTS/internal/applications/ocean-colour-applications/2_methodological_approaches/machine_learning/Machine_learning_regression_for_ocean_parameters_retrieval/ml/c2_processing.py:52\u001b[0m, in \u001b[0;36mload_S3_image_C2RCC\u001b[0;34m(image_path)\u001b[0m\n\u001b[1;32m     50\u001b[0m images \u001b[38;5;241m=\u001b[39m []\n\u001b[1;32m     51\u001b[0m \u001b[38;5;28;01mfor\u001b[39;00m ip \u001b[38;5;129;01min\u001b[39;00m inputs:\n\u001b[0;32m---> 52\u001b[0m     metadata \u001b[38;5;241m=\u001b[39m \u001b[43menvi\u001b[49m\u001b[38;5;241;43m.\u001b[39;49m\u001b[43mread_envi_header\u001b[49m\u001b[43m(\u001b[49m\u001b[43mip\u001b[49m\u001b[43m)\u001b[49m\n\u001b[1;32m     53\u001b[0m     gain \u001b[38;5;241m=\u001b[39m np\u001b[38;5;241m.\u001b[39marray([\u001b[38;5;28mfloat\u001b[39m(m) \u001b[38;5;28;01mfor\u001b[39;00m m \u001b[38;5;129;01min\u001b[39;00m metadata[\u001b[38;5;124m'\u001b[39m\u001b[38;5;124mdata gain values\u001b[39m\u001b[38;5;124m'\u001b[39m]])\n\u001b[1;32m     54\u001b[0m     offset \u001b[38;5;241m=\u001b[39m np\u001b[38;5;241m.\u001b[39marray([\u001b[38;5;28mfloat\u001b[39m(m) \u001b[38;5;28;01mfor\u001b[39;00m m \u001b[38;5;129;01min\u001b[39;00m metadata[\u001b[38;5;124m'\u001b[39m\u001b[38;5;124mdata offset values\u001b[39m\u001b[38;5;124m'\u001b[39m]])\n",
      "File \u001b[0;32m~/opt/anaconda3/envs/cmts_ocean_colour_applications/lib/python3.9/site-packages/spectral/io/envi.py:117\u001b[0m, in \u001b[0;36mread_envi_header\u001b[0;34m(file)\u001b[0m\n\u001b[1;32m    109\u001b[0m \u001b[38;5;28;01mdef\u001b[39;00m \u001b[38;5;21mread_envi_header\u001b[39m(file):\n\u001b[1;32m    110\u001b[0m \u001b[38;5;250m    \u001b[39m\u001b[38;5;124;03m'''\u001b[39;00m\n\u001b[1;32m    111\u001b[0m \u001b[38;5;124;03m    USAGE: hdr = read_envi_header(file)\u001b[39;00m\n\u001b[1;32m    112\u001b[0m \n\u001b[0;32m   (...)\u001b[0m\n\u001b[1;32m    115\u001b[0m \u001b[38;5;124;03m    insensitive and all keys in the dictionary are lowercase.\u001b[39;00m\n\u001b[1;32m    116\u001b[0m \u001b[38;5;124;03m    '''\u001b[39;00m\n\u001b[0;32m--> 117\u001b[0m     f \u001b[38;5;241m=\u001b[39m \u001b[43mbuiltins\u001b[49m\u001b[38;5;241;43m.\u001b[39;49m\u001b[43mopen\u001b[49m\u001b[43m(\u001b[49m\u001b[43mfile\u001b[49m\u001b[43m,\u001b[49m\u001b[43m \u001b[49m\u001b[38;5;124;43m'\u001b[39;49m\u001b[38;5;124;43mr\u001b[39;49m\u001b[38;5;124;43m'\u001b[39;49m\u001b[43m)\u001b[49m\n\u001b[1;32m    119\u001b[0m     \u001b[38;5;28;01mtry\u001b[39;00m:\n\u001b[1;32m    120\u001b[0m         starts_with_ENVI \u001b[38;5;241m=\u001b[39m f\u001b[38;5;241m.\u001b[39mreadline()\u001b[38;5;241m.\u001b[39mstrip()\u001b[38;5;241m.\u001b[39mstartswith(\u001b[38;5;124m'\u001b[39m\u001b[38;5;124mENVI\u001b[39m\u001b[38;5;124m'\u001b[39m)\n",
      "\u001b[0;31mFileNotFoundError\u001b[0m: [Errno 2] No such file or directory: '/home/ana/Downloads/mlregocean_cdom_ar-main/mlregocean_github/S3Images/subset_0_of_S3A_OL_1_EFR____20160524T090953_20160524T091153_20170930T000736_0119_004_264______MR1_R_NT_002.data/rrs_1.hdr'"
     ]
    }
   ],
   "source": [
    "##Read the images from the S3Images folder (include whole path with directory)\n",
    "s3image_path = \"/home/ana/Downloads/mlregocean_cdom_ar-main/mlregocean_github/S3Images/subset_0_of_S3A_OL_1_EFR____20160524T090953_20160524T091153_20170930T000736_0119_004_264______MR1_R_NT_002.data\"\n",
    "img = c2_processing.load_S3_image_C2RCC(image_path=s3image_path)\n",
    "img.shape"
   ]
  },
  {
   "cell_type": "code",
   "execution_count": null,
   "metadata": {},
   "outputs": [],
   "source": [
    "##Plot the image to check that it was read properly\n",
    "plt.imshow(img[:,:,5],vmin=0,vmax=0.01)\n",
    "plt.colorbar()\n",
    "plt.show()"
   ]
  },
  {
   "cell_type": "markdown",
   "metadata": {},
   "source": [
    "## Load and show water mask\n",
    "[Table of Contents](#Table-of-Contents)"
   ]
  },
  {
   "cell_type": "code",
   "execution_count": null,
   "metadata": {},
   "outputs": [],
   "source": [
    "##Load the mask using the function 'cdom_processing.load_mask_C2RCC'\n",
    "reload(c2_processing)\n",
    "mascara = c2_processing.load_mask_C2RCC(s3image_path)\n",
    "mascara = (mascara==1)\n",
    "plt.imshow(mascara)\n",
    "plt.show()"
   ]
  },
  {
   "cell_type": "markdown",
   "metadata": {},
   "source": [
    "## Show ratio1 band\n",
    "[Table of Contents](#Table-of-Contents)"
   ]
  },
  {
   "cell_type": "code",
   "execution_count": null,
   "metadata": {},
   "outputs": [],
   "source": [
    "## Show one specific band (ratio1 in the example) with the mask on\n",
    "ratio = np.ma.masked_array(img[:,:,5],mascara)\n",
    "plt.imshow(ratio,vmin=0,vmax=0.01)\n",
    "plt.colorbar()\n",
    "plt.show()\n",
    "plt.close()"
   ]
  },
  {
   "cell_type": "markdown",
   "metadata": {},
   "source": [
    "## Load the model and make predictions on the S3 image\n",
    "[Table of Contents](#Table-of-Contents)"
   ]
  },
  {
   "cell_type": "code",
   "execution_count": null,
   "metadata": {},
   "outputs": [],
   "source": [
    "# Load one of the models stored in the 'models' folder; you need to give the complete name (band combiantion)\n",
    "name_model = \"RFR\"\n",
    "bands_name = \"S3bands\"\n",
    "\n",
    "def load_model(name_model,bands_name):\n",
    "    file_model = os.path.join(data_load_S3.PATH_TO_MODELS_C2X,\n",
    "                              name_model+'_'+bands_name+'_CHL.pkl')\n",
    "    return joblib.load(file_model)\n",
    "\n",
    "regressor_sklearn = load_model(name_model,bands_name)\n",
    "regressor_sklearn"
   ]
  },
  {
   "cell_type": "code",
   "execution_count": null,
   "metadata": {},
   "outputs": [],
   "source": [
    "# Select the image to predict. band names of model and image should be the same or be correspondent\n",
    "reload(c2_processing) \n",
    "image_predict = c2_processing.image_to_predict_S3_C2RCC(img,data_load_S3.bands_try_C2X[bands_name])\n",
    "image_predict.shape"
   ]
  },
  {
   "cell_type": "code",
   "execution_count": null,
   "metadata": {},
   "outputs": [],
   "source": [
    "#Optiional: number of pixels that are masked\n",
    "np.sum(mascara)"
   ]
  },
  {
   "cell_type": "code",
   "execution_count": null,
   "metadata": {},
   "outputs": [],
   "source": [
    "# Load training data to add the mean and compute the min,max range of the predicted variable\n",
    "_, _, skdata_y_train, _ = data_load_S3.load_C2X()\n",
    "\n",
    "\n",
    "mean_y_train = np.mean(skdata_y_train)\n",
    "max_cdom = np.max(skdata_y_train)\n",
    "predictions = c2_processing.predict_image(image_predict,\n",
    "                                            mascara,\n",
    "                                            regressor_sklearn,\n",
    "                                            y_range=(0,max_cdom),\n",
    "                                            y_mean=mean_y_train,step=300)\n",
    "                                            \n",
    "                                            \n",
    "predictions.shape\n"
   ]
  },
  {
   "cell_type": "code",
   "execution_count": null,
   "metadata": {},
   "outputs": [],
   "source": [
    "preds = predictions[~np.isnan(predictions)]\n",
    "preds.max(), preds.min(), preds.mean()"
   ]
  },
  {
   "cell_type": "code",
   "execution_count": null,
   "metadata": {},
   "outputs": [],
   "source": [
    "#Show the results of the prediction\n",
    "plt.figure(figsize=(16,8))\n",
    "plt.imshow(predictions,vmin=0,vmax=20)\n",
    "plt.colorbar()\n",
    "plt.show()"
   ]
  },
  {
   "cell_type": "markdown",
   "metadata": {},
   "source": [
    "## Save preds to `envi`\n",
    "[Table of Contents](#Table-of-Contents)"
   ]
  },
  {
   "cell_type": "code",
   "execution_count": null,
   "metadata": {},
   "outputs": [],
   "source": [
    "#Save image in envi format (hdr, img) to be opened in SNAP\n",
    "folder_save = \".\"\n",
    "cdom_processing.write_envi(predictions, os.path.join(folder_save,\n",
    "                                                     name_model+'_'+bands_name+'_CHL.hdr'))\n",
    "                           \n"
   ]
  },
  {
   "cell_type": "code",
   "execution_count": null,
   "metadata": {},
   "outputs": [],
   "source": []
  }
 ],
 "metadata": {
  "kernelspec": {
   "display_name": "Python 3 (ipykernel)",
   "language": "python",
   "name": "python3"
  },
  "language_info": {
   "codemirror_mode": {
    "name": "ipython",
    "version": 3
   },
   "file_extension": ".py",
   "mimetype": "text/x-python",
   "name": "python",
   "nbconvert_exporter": "python",
   "pygments_lexer": "ipython3",
   "version": "3.9.16"
  },
  "widgets": {
   "state": {},
   "version": "1.1.2"
  }
 },
 "nbformat": 4,
 "nbformat_minor": 4
}

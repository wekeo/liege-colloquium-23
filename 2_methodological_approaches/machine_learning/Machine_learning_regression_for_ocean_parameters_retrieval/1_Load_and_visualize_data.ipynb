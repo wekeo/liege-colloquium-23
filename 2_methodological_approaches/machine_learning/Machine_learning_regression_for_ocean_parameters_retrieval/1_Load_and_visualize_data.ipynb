{
 "cells": [
  {
   "cell_type": "markdown",
   "id": "999bfa3f-92a5-4b81-9001-e3c1175885c1",
   "metadata": {},
   "source": [
    "<img src='https://gitlab.eumetsat.int/eumetlab/oceans/ocean-training/tools/frameworks/-/raw/main/img/Standard_banner.png' align='right' width='100%'/>"
   ]
  },
  {
   "cell_type": "markdown",
   "id": "f8640f42-a89f-4aaa-94b7-bcb34ac75727",
   "metadata": {},
   "source": [
    "<a href=\"../../Index.ipynb\"><< Index</a>\n",
    "<br>\n",
    "<a href=\"./README.ipynb\" target=\"_blank\"><< README</a>&nbsp;&nbsp;&nbsp;&nbsp;&nbsp;<a href=\"./Statistics_analysis.ipynb\" target=\"_blank\">Statistics and analysis >></a>"
   ]
  },
  {
   "cell_type": "markdown",
   "id": "80b02750-0f1a-46ce-aae7-cb96393116e6",
   "metadata": {},
   "source": [
    "<font color=\"#138D75\">**Copernicus Marine Training Service**</font> <br>\n",
    "**Copyright:** 2023 EUMETSAT <br>\n",
    "**License:** MIT <br>\n",
    "**Authors:** Ben Loveday (EUMETSAT/Innoflair UG), Hayley Evers-King (EUMETSAT), Ana Ruescas (Brockmann Consult GmbH / University of Valencia)."
   ]
  },
  {
   "cell_type": "markdown",
   "id": "fd354983-b3de-4aea-ad20-8f3b1ee155f5",
   "metadata": {},
   "source": [
    "<div class=\"alert alert-block alert-success\">\n",
    "<h3>Liege Colloquium 2023</h3></div>"
   ]
  },
  {
   "cell_type": "markdown",
   "id": "164ddfa8-c896-483d-90c5-26c4f445434b",
   "metadata": {},
   "source": [
    "<div class=\"alert alert-block alert-warning\">\n",
    "    \n",
    "<b>PREREQUISITES </b>\n",
    "    \n",
    "This notebook has the following prerequisites:\n",
    "- **<a href=\"https://eoportal.eumetsat.int/\" target=\"_blank\">A EUMETSAT Earth Observation Portal account</a>** if you are using or plan to use the EUMETSAT Data Store or CODA\n",
    "\n",
    "There are no prerequisite notebooks for this module.\n",
    "</div>\n",
    "<hr>"
   ]
  },
  {
   "cell_type": "markdown",
   "id": "ed3e6dd9",
   "metadata": {},
   "source": [
    "# Table of Contents\n",
    "* [Load data](#Load-models-and-data)\n",
    "* [Visualize data](#Visualize-data-with-histograms)\n",
    "* [Train models](#models)"
   ]
  },
  {
   "cell_type": "markdown",
   "id": "8f952222",
   "metadata": {},
   "source": [
    "## Load data\n",
    "[Table of Contents](#Table-of-Contents)"
   ]
  },
  {
   "cell_type": "code",
   "execution_count": 1,
   "id": "06bd9cec",
   "metadata": {},
   "outputs": [],
   "source": [
    "import os\n",
    "import numpy as np\n",
    "import matplotlib.pyplot as plt\n",
    "import joblib\n",
    "import warnings\n",
    "warnings.filterwarnings(\"ignore\")\n",
    "\n",
    "from ml import data_load_S3, models, ml_regression, Py4R_plots"
   ]
  },
  {
   "cell_type": "code",
   "execution_count": 2,
   "id": "83b493de",
   "metadata": {},
   "outputs": [],
   "source": [
    "data_X_train, data_X_test, data_y_train, data_y_test = data_load_S3.load_C2X()\n",
    "mean_y_train = np.mean(data_y_train, axis=0)"
   ]
  },
  {
   "cell_type": "code",
   "execution_count": 3,
   "id": "7b4ba37a",
   "metadata": {},
   "outputs": [
    {
     "data": {
      "text/html": [
       "<div>\n",
       "<style scoped>\n",
       "    .dataframe tbody tr th:only-of-type {\n",
       "        vertical-align: middle;\n",
       "    }\n",
       "\n",
       "    .dataframe tbody tr th {\n",
       "        vertical-align: top;\n",
       "    }\n",
       "\n",
       "    .dataframe thead th {\n",
       "        text-align: right;\n",
       "    }\n",
       "</style>\n",
       "<table border=\"1\" class=\"dataframe\">\n",
       "  <thead>\n",
       "    <tr style=\"text-align: right;\">\n",
       "      <th></th>\n",
       "      <th>400</th>\n",
       "      <th>412.5</th>\n",
       "      <th>442.5</th>\n",
       "      <th>490</th>\n",
       "      <th>510</th>\n",
       "      <th>560</th>\n",
       "      <th>620</th>\n",
       "      <th>665</th>\n",
       "      <th>673.75</th>\n",
       "      <th>681.25</th>\n",
       "      <th>708.75</th>\n",
       "      <th>753.75</th>\n",
       "      <th>778.75</th>\n",
       "      <th>865</th>\n",
       "      <th>885</th>\n",
       "    </tr>\n",
       "  </thead>\n",
       "  <tbody>\n",
       "    <tr>\n",
       "      <th>0</th>\n",
       "      <td>0.001364</td>\n",
       "      <td>0.001641</td>\n",
       "      <td>0.002518</td>\n",
       "      <td>0.004955</td>\n",
       "      <td>0.005580</td>\n",
       "      <td>0.006548</td>\n",
       "      <td>0.002153</td>\n",
       "      <td>0.001292</td>\n",
       "      <td>0.001204</td>\n",
       "      <td>0.001151</td>\n",
       "      <td>0.000683</td>\n",
       "      <td>0.000199</td>\n",
       "      <td>0.000222</td>\n",
       "      <td>0.000088</td>\n",
       "      <td>0.000074</td>\n",
       "    </tr>\n",
       "    <tr>\n",
       "      <th>1</th>\n",
       "      <td>0.000932</td>\n",
       "      <td>0.000996</td>\n",
       "      <td>0.001138</td>\n",
       "      <td>0.001754</td>\n",
       "      <td>0.001882</td>\n",
       "      <td>0.002212</td>\n",
       "      <td>0.000799</td>\n",
       "      <td>0.000431</td>\n",
       "      <td>0.000384</td>\n",
       "      <td>0.000376</td>\n",
       "      <td>0.000267</td>\n",
       "      <td>0.000077</td>\n",
       "      <td>0.000085</td>\n",
       "      <td>0.000037</td>\n",
       "      <td>0.000027</td>\n",
       "    </tr>\n",
       "    <tr>\n",
       "      <th>2</th>\n",
       "      <td>0.001404</td>\n",
       "      <td>0.001482</td>\n",
       "      <td>0.001718</td>\n",
       "      <td>0.002432</td>\n",
       "      <td>0.002613</td>\n",
       "      <td>0.003179</td>\n",
       "      <td>0.001523</td>\n",
       "      <td>0.000984</td>\n",
       "      <td>0.000918</td>\n",
       "      <td>0.000896</td>\n",
       "      <td>0.000561</td>\n",
       "      <td>0.000168</td>\n",
       "      <td>0.000191</td>\n",
       "      <td>0.000073</td>\n",
       "      <td>0.000067</td>\n",
       "    </tr>\n",
       "    <tr>\n",
       "      <th>3</th>\n",
       "      <td>0.000886</td>\n",
       "      <td>0.000885</td>\n",
       "      <td>0.000909</td>\n",
       "      <td>0.001200</td>\n",
       "      <td>0.001226</td>\n",
       "      <td>0.001317</td>\n",
       "      <td>0.000532</td>\n",
       "      <td>0.000310</td>\n",
       "      <td>0.000282</td>\n",
       "      <td>0.000275</td>\n",
       "      <td>0.000176</td>\n",
       "      <td>0.000053</td>\n",
       "      <td>0.000055</td>\n",
       "      <td>0.000024</td>\n",
       "      <td>0.000020</td>\n",
       "    </tr>\n",
       "    <tr>\n",
       "      <th>4</th>\n",
       "      <td>0.000732</td>\n",
       "      <td>0.000794</td>\n",
       "      <td>0.000960</td>\n",
       "      <td>0.001326</td>\n",
       "      <td>0.001222</td>\n",
       "      <td>0.001002</td>\n",
       "      <td>0.000250</td>\n",
       "      <td>0.000143</td>\n",
       "      <td>0.000134</td>\n",
       "      <td>0.000127</td>\n",
       "      <td>0.000068</td>\n",
       "      <td>0.000019</td>\n",
       "      <td>0.000020</td>\n",
       "      <td>0.000009</td>\n",
       "      <td>0.000005</td>\n",
       "    </tr>\n",
       "    <tr>\n",
       "      <th>...</th>\n",
       "      <td>...</td>\n",
       "      <td>...</td>\n",
       "      <td>...</td>\n",
       "      <td>...</td>\n",
       "      <td>...</td>\n",
       "      <td>...</td>\n",
       "      <td>...</td>\n",
       "      <td>...</td>\n",
       "      <td>...</td>\n",
       "      <td>...</td>\n",
       "      <td>...</td>\n",
       "      <td>...</td>\n",
       "      <td>...</td>\n",
       "      <td>...</td>\n",
       "      <td>...</td>\n",
       "    </tr>\n",
       "    <tr>\n",
       "      <th>5565</th>\n",
       "      <td>0.000035</td>\n",
       "      <td>0.000035</td>\n",
       "      <td>0.000049</td>\n",
       "      <td>0.000074</td>\n",
       "      <td>0.000089</td>\n",
       "      <td>0.000144</td>\n",
       "      <td>0.000226</td>\n",
       "      <td>0.000311</td>\n",
       "      <td>0.000328</td>\n",
       "      <td>0.000350</td>\n",
       "      <td>0.000277</td>\n",
       "      <td>0.000088</td>\n",
       "      <td>0.000088</td>\n",
       "      <td>0.000038</td>\n",
       "      <td>0.000031</td>\n",
       "    </tr>\n",
       "    <tr>\n",
       "      <th>5566</th>\n",
       "      <td>0.000068</td>\n",
       "      <td>0.000078</td>\n",
       "      <td>0.000112</td>\n",
       "      <td>0.000188</td>\n",
       "      <td>0.000228</td>\n",
       "      <td>0.000370</td>\n",
       "      <td>0.000554</td>\n",
       "      <td>0.000666</td>\n",
       "      <td>0.000679</td>\n",
       "      <td>0.000702</td>\n",
       "      <td>0.000481</td>\n",
       "      <td>0.000145</td>\n",
       "      <td>0.000156</td>\n",
       "      <td>0.000066</td>\n",
       "      <td>0.000054</td>\n",
       "    </tr>\n",
       "    <tr>\n",
       "      <th>5567</th>\n",
       "      <td>0.000056</td>\n",
       "      <td>0.000051</td>\n",
       "      <td>0.000046</td>\n",
       "      <td>0.000065</td>\n",
       "      <td>0.000083</td>\n",
       "      <td>0.000176</td>\n",
       "      <td>0.000150</td>\n",
       "      <td>0.000060</td>\n",
       "      <td>0.000048</td>\n",
       "      <td>0.000053</td>\n",
       "      <td>0.001222</td>\n",
       "      <td>0.000429</td>\n",
       "      <td>0.000448</td>\n",
       "      <td>0.000188</td>\n",
       "      <td>0.000160</td>\n",
       "    </tr>\n",
       "    <tr>\n",
       "      <th>5568</th>\n",
       "      <td>0.000036</td>\n",
       "      <td>0.000043</td>\n",
       "      <td>0.000061</td>\n",
       "      <td>0.000094</td>\n",
       "      <td>0.000113</td>\n",
       "      <td>0.000186</td>\n",
       "      <td>0.000301</td>\n",
       "      <td>0.000411</td>\n",
       "      <td>0.000442</td>\n",
       "      <td>0.000466</td>\n",
       "      <td>0.000329</td>\n",
       "      <td>0.000101</td>\n",
       "      <td>0.000115</td>\n",
       "      <td>0.000044</td>\n",
       "      <td>0.000039</td>\n",
       "    </tr>\n",
       "    <tr>\n",
       "      <th>5569</th>\n",
       "      <td>0.000051</td>\n",
       "      <td>0.000060</td>\n",
       "      <td>0.000086</td>\n",
       "      <td>0.000136</td>\n",
       "      <td>0.000171</td>\n",
       "      <td>0.000280</td>\n",
       "      <td>0.000454</td>\n",
       "      <td>0.000607</td>\n",
       "      <td>0.000628</td>\n",
       "      <td>0.000674</td>\n",
       "      <td>0.000541</td>\n",
       "      <td>0.000169</td>\n",
       "      <td>0.000191</td>\n",
       "      <td>0.000077</td>\n",
       "      <td>0.000069</td>\n",
       "    </tr>\n",
       "  </tbody>\n",
       "</table>\n",
       "<p>5570 rows × 15 columns</p>\n",
       "</div>"
      ],
      "text/plain": [
       "           400     412.5     442.5       490       510       560       620   \n",
       "0     0.001364  0.001641  0.002518  0.004955  0.005580  0.006548  0.002153  \\\n",
       "1     0.000932  0.000996  0.001138  0.001754  0.001882  0.002212  0.000799   \n",
       "2     0.001404  0.001482  0.001718  0.002432  0.002613  0.003179  0.001523   \n",
       "3     0.000886  0.000885  0.000909  0.001200  0.001226  0.001317  0.000532   \n",
       "4     0.000732  0.000794  0.000960  0.001326  0.001222  0.001002  0.000250   \n",
       "...        ...       ...       ...       ...       ...       ...       ...   \n",
       "5565  0.000035  0.000035  0.000049  0.000074  0.000089  0.000144  0.000226   \n",
       "5566  0.000068  0.000078  0.000112  0.000188  0.000228  0.000370  0.000554   \n",
       "5567  0.000056  0.000051  0.000046  0.000065  0.000083  0.000176  0.000150   \n",
       "5568  0.000036  0.000043  0.000061  0.000094  0.000113  0.000186  0.000301   \n",
       "5569  0.000051  0.000060  0.000086  0.000136  0.000171  0.000280  0.000454   \n",
       "\n",
       "           665    673.75    681.25    708.75    753.75    778.75       865   \n",
       "0     0.001292  0.001204  0.001151  0.000683  0.000199  0.000222  0.000088  \\\n",
       "1     0.000431  0.000384  0.000376  0.000267  0.000077  0.000085  0.000037   \n",
       "2     0.000984  0.000918  0.000896  0.000561  0.000168  0.000191  0.000073   \n",
       "3     0.000310  0.000282  0.000275  0.000176  0.000053  0.000055  0.000024   \n",
       "4     0.000143  0.000134  0.000127  0.000068  0.000019  0.000020  0.000009   \n",
       "...        ...       ...       ...       ...       ...       ...       ...   \n",
       "5565  0.000311  0.000328  0.000350  0.000277  0.000088  0.000088  0.000038   \n",
       "5566  0.000666  0.000679  0.000702  0.000481  0.000145  0.000156  0.000066   \n",
       "5567  0.000060  0.000048  0.000053  0.001222  0.000429  0.000448  0.000188   \n",
       "5568  0.000411  0.000442  0.000466  0.000329  0.000101  0.000115  0.000044   \n",
       "5569  0.000607  0.000628  0.000674  0.000541  0.000169  0.000191  0.000077   \n",
       "\n",
       "           885  \n",
       "0     0.000074  \n",
       "1     0.000027  \n",
       "2     0.000067  \n",
       "3     0.000020  \n",
       "4     0.000005  \n",
       "...        ...  \n",
       "5565  0.000031  \n",
       "5566  0.000054  \n",
       "5567  0.000160  \n",
       "5568  0.000039  \n",
       "5569  0.000069  \n",
       "\n",
       "[5570 rows x 15 columns]"
      ]
     },
     "execution_count": 3,
     "metadata": {},
     "output_type": "execute_result"
    }
   ],
   "source": [
    "#Visualize data in table format\n",
    "data_X_train"
   ]
  },
  {
   "cell_type": "code",
   "execution_count": 4,
   "id": "1a8b7964",
   "metadata": {},
   "outputs": [
    {
     "data": {
      "text/plain": [
       "0         3.30\n",
       "1         7.20\n",
       "2         1.20\n",
       "3         4.00\n",
       "4         0.15\n",
       "         ...  \n",
       "5565      2.70\n",
       "5566      0.34\n",
       "5567    200.00\n",
       "5568      0.08\n",
       "5569      3.10\n",
       "Name: Chl, Length: 5570, dtype: float64"
      ]
     },
     "execution_count": 4,
     "metadata": {},
     "output_type": "execute_result"
    }
   ],
   "source": [
    "data_y_train"
   ]
  },
  {
   "cell_type": "markdown",
   "id": "f13a4898",
   "metadata": {},
   "source": [
    "## Visualize data with histograms\n",
    "[Table of Contents](#Table-of-Contents)"
   ]
  },
  {
   "cell_type": "code",
   "execution_count": 5,
   "id": "02a3d4ef",
   "metadata": {},
   "outputs": [
    {
     "data": {
      "text/plain": [
       "(5570, 15)"
      ]
     },
     "execution_count": 5,
     "metadata": {},
     "output_type": "execute_result"
    }
   ],
   "source": [
    "#Calling the shape attribute of a dataframe will return a tuple \n",
    "#containing the dimensions (rows x columns) of a dataframe\n",
    "data_X_train.shape"
   ]
  },
  {
   "cell_type": "code",
   "execution_count": 6,
   "id": "bc8aad00",
   "metadata": {},
   "outputs": [],
   "source": [
    "df=np.log10(data_X_train)"
   ]
  },
  {
   "cell_type": "code",
   "execution_count": 7,
   "id": "1c643357",
   "metadata": {},
   "outputs": [
    {
     "data": {
      "text/plain": [
       "array([[<Axes: title={'center': '442.5'}>,\n",
       "        <Axes: title={'center': '560'}>],\n",
       "       [<Axes: title={'center': '620'}>, <Axes: title={'center': '865'}>]],\n",
       "      dtype=object)"
      ]
     },
     "execution_count": 7,
     "metadata": {},
     "output_type": "execute_result"
    },
    {
     "data": {
      "image/png": "[encoded data removed]",
      "text/plain": [
       "<Figure size 1500x1000 with 4 Axes>"
      ]
     },
     "metadata": {},
     "output_type": "display_data"
    }
   ],
   "source": [
    "df.hist(column=['442.5','560','620', '865'], bins=25,grid=False, figsize=(15,10), color='#86bf91', \n",
    "                    zorder=2, rwidth=0.9)"
   ]
  },
  {
   "cell_type": "code",
   "execution_count": 8,
   "id": "896abe8a",
   "metadata": {},
   "outputs": [],
   "source": [
    "dy=np.log10(data_y_train)"
   ]
  },
  {
   "cell_type": "code",
   "execution_count": 9,
   "id": "0bc03721",
   "metadata": {},
   "outputs": [
    {
     "data": {
      "text/plain": [
       "<Axes: >"
      ]
     },
     "execution_count": 9,
     "metadata": {},
     "output_type": "execute_result"
    },
    {
     "data": {
      "image/png": "[encoded data removed]",
      "text/plain": [
       "<Figure size 1500x1000 with 1 Axes>"
      ]
     },
     "metadata": {},
     "output_type": "display_data"
    }
   ],
   "source": [
    "dy.hist(bins=25,grid=False, figsize=(15,10), color='#86bf91', \n",
    "                    zorder=2, rwidth=0.9)"
   ]
  },
  {
   "cell_type": "markdown",
   "id": "db0f8944",
   "metadata": {},
   "source": [
    "## Train the models\n",
    "[Table of Contents](#Table-of-Contents)"
   ]
  },
  {
   "cell_type": "code",
   "execution_count": 10,
   "id": "66ada0a6",
   "metadata": {},
   "outputs": [],
   "source": [
    "#Import function from ml_regression\n",
    "from ml.ml_regression import train_models"
   ]
  },
  {
   "cell_type": "code",
   "execution_count": 11,
   "id": "48ab02aa",
   "metadata": {},
   "outputs": [
    {
     "name": "stdout",
     "output_type": "stream",
     "text": [
      "Trying bands S3bands\n",
      "Shapes train: (5570, 15) 0         3.30\n",
      "1         7.20\n",
      "2         1.20\n",
      "3         4.00\n",
      "4         0.15\n",
      "         ...  \n",
      "5565      2.70\n",
      "5566      0.34\n",
      "5567    200.00\n",
      "5568      0.08\n",
      "5569      3.10\n",
      "Name: Chl, Length: 5570, dtype: float64\n",
      "-------------------------------------------------\n",
      "Fitting model: RLR\n",
      "-------------------------------------------------\n",
      "Fitting 10 folds for each of 6 candidates, totalling 60 fits\n",
      "-------------------------------------------------\n",
      "Fitting model: RFR\n",
      "-------------------------------------------------\n",
      "Fitting 10 folds for each of 5 candidates, totalling 50 fits\n"
     ]
    }
   ],
   "source": [
    "#Train models specified in 'train_models' (contains different combiantion of data)\n",
    "train_models()"
   ]
  },
  {
   "cell_type": "markdown",
   "id": "c9bff887-dc25-4be7-b418-db7e7c086fff",
   "metadata": {},
   "source": [
    "<hr>\n",
    "<a href=\"../../Index.ipynb\"><< Index</a>\n",
    "<br>\n",
    "<a href=\"./README.ipynb\" target=\"_blank\"><< README</a>&nbsp;&nbsp;&nbsp;&nbsp;&nbsp;<a href=\"./Statistics_analysis.ipynb\" target=\"_blank\">Statistics and analysis >></a>\n",
    "<hr>\n",
    "<a href=\"https://github.com/wekeo/liege-colloquium-23\" target=\"_blank\">View on GitHub</a> | <a href=\"https://training.eumetsat.int/\" target=\"_blank\">EUMETSAT Training</a> | <a href=mailto:ops@eumetsat.int target=\"_blank\">Contact helpdesk for support </a> | <a href=mailto:Copernicus.training@eumetsat.int target=\"_blank\">Contact our training team to collaborate on and reuse this material</a></span></p>"
   ]
  }
 ],
 "metadata": {
  "kernelspec": {
   "display_name": "Python 3 (ipykernel)",
   "language": "python",
   "name": "python3"
  },
  "language_info": {
   "codemirror_mode": {
    "name": "ipython",
    "version": 3
   },
   "file_extension": ".py",
   "mimetype": "text/x-python",
   "name": "python",
   "nbconvert_exporter": "python",
   "pygments_lexer": "ipython3",
   "version": "3.9.16"
  }
 },
 "nbformat": 4,
 "nbformat_minor": 5
}

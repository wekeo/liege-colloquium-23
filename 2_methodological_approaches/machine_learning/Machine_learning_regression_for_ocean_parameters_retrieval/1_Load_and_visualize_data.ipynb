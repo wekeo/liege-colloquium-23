{
 "cells": [
  {
   "cell_type": "markdown",
   "id": "999bfa3f-92a5-4b81-9001-e3c1175885c1",
   "metadata": {},
   "source": [
    "<img src='https://gitlab.eumetsat.int/eumetlab/oceans/ocean-training/tools/frameworks/-/raw/main/img/Standard_banner.png' align='right' width='100%'/>"
   ]
  },
  {
   "cell_type": "markdown",
   "id": "f8640f42-a89f-4aaa-94b7-bcb34ac75727",
   "metadata": {},
   "source": [
    "<a href=\"../../Index.ipynb\"><< Index</a>\n",
    "<br>\n",
    "<a href=\"./README.ipynb\" target=\"_blank\"><< README</a>&nbsp;&nbsp;&nbsp;&nbsp;&nbsp;<a href=\"./2_Statistics_analysis.ipynb\" target=\"_blank\">Statistics and analysis >></a>"
   ]
  },
  {
   "cell_type": "markdown",
   "id": "80b02750-0f1a-46ce-aae7-cb96393116e6",
   "metadata": {},
   "source": [
    "<font color=\"#138D75\">**Copernicus Marine Training Service**</font> <br>\n",
    "**Copyright:** 2023 EUMETSAT <br>\n",
    "**License:** MIT <br>\n",
    "**Authors:** Ben Loveday (EUMETSAT/Innoflair UG), Hayley Evers-King (EUMETSAT), Ana Ruescas (Brockmann Consult GmbH / University of Valencia)."
   ]
  },
  {
   "cell_type": "markdown",
   "id": "fd354983-b3de-4aea-ad20-8f3b1ee155f5",
   "metadata": {},
   "source": [
    "<div class=\"alert alert-block alert-success\">\n",
    "<h3>Liege Colloquium 2023</h3></div>"
   ]
  },
  {
   "cell_type": "markdown",
   "id": "164ddfa8-c896-483d-90c5-26c4f445434b",
   "metadata": {},
   "source": [
    "<div class=\"alert alert-block alert-warning\">\n",
    "    \n",
    "<b>PREREQUISITES </b>\n",
    "    \n",
    "There are no prerequisite for this module.\n",
    "</div>\n",
    "<hr>"
   ]
  },
  {
   "cell_type": "markdown",
   "id": "ed3e6dd9",
   "metadata": {},
   "source": [
    "<div class=\"alert alert-info\" role=\"alert\">\n",
    "\n",
    "## <a id='TOC_TOP'></a>Contents\n",
    "\n",
    "</div>\n",
    "\n",
    "1. [Load data](#section1)\n",
    "1. [Visualize data](#section2)\n",
    "1. [Train models](#section3)"
   ]
  },
  {
   "cell_type": "markdown",
   "id": "2234bdfe-5fb6-4da7-a5ac-822bb1137f95",
   "metadata": {},
   "source": [
    "<div class=\"alert alert-info\" role=\"alert\">\n",
    "\n",
    "## <a id='section1'></a>1. Load data\n",
    "[Back to top](#TOC_TOP)\n",
    "\n",
    "</div>"
   ]
  },
  {
   "cell_type": "code",
   "execution_count": null,
   "id": "06bd9cec",
   "metadata": {},
   "outputs": [],
   "source": [
    "import os\n",
    "import numpy as np\n",
    "import matplotlib.pyplot as plt\n",
    "import joblib\n",
    "import warnings\n",
    "warnings.filterwarnings(\"ignore\")\n",
    "\n",
    "from ml import data_load_S3, models, ml_regression, Py4R_plots"
   ]
  },
  {
   "cell_type": "code",
   "execution_count": null,
   "id": "83b493de",
   "metadata": {},
   "outputs": [],
   "source": [
    "data_X_train, data_X_test, data_y_train, data_y_test = data_load_S3.load_C2X()\n",
    "mean_y_train = np.mean(data_y_train, axis=0)"
   ]
  },
  {
   "cell_type": "code",
   "execution_count": null,
   "id": "7b4ba37a",
   "metadata": {},
   "outputs": [],
   "source": [
    "#Visualize data in table format\n",
    "data_X_train"
   ]
  },
  {
   "cell_type": "code",
   "execution_count": null,
   "id": "1a8b7964",
   "metadata": {},
   "outputs": [],
   "source": [
    "data_y_train"
   ]
  },
  {
   "cell_type": "markdown",
   "id": "2b5460c8-ef58-43da-b9ab-a53a4097315a",
   "metadata": {},
   "source": [
    "<div class=\"alert alert-info\" role=\"alert\">\n",
    "\n",
    "## <a id='section2'></a>2. Visualize data with histograms\n",
    "[Back to top](#TOC_TOP)\n",
    "\n",
    "</div>"
   ]
  },
  {
   "cell_type": "code",
   "execution_count": null,
   "id": "02a3d4ef",
   "metadata": {},
   "outputs": [],
   "source": [
    "#Calling the shape attribute of a dataframe will return a tuple \n",
    "#containing the dimensions (rows x columns) of a dataframe\n",
    "data_X_train.shape"
   ]
  },
  {
   "cell_type": "code",
   "execution_count": null,
   "id": "bc8aad00",
   "metadata": {},
   "outputs": [],
   "source": [
    "df=np.log10(data_X_train)"
   ]
  },
  {
   "cell_type": "code",
   "execution_count": null,
   "id": "1c643357",
   "metadata": {},
   "outputs": [],
   "source": [
    "df.hist(column=['442.5','560','620', '865'], bins=25,grid=False, figsize=(15,10), color='#86bf91', \n",
    "                    zorder=2, rwidth=0.9)"
   ]
  },
  {
   "cell_type": "code",
   "execution_count": null,
   "id": "896abe8a",
   "metadata": {},
   "outputs": [],
   "source": [
    "dy=np.log10(data_y_train)"
   ]
  },
  {
   "cell_type": "code",
   "execution_count": null,
   "id": "0bc03721",
   "metadata": {},
   "outputs": [],
   "source": [
    "dy.hist(bins=25,grid=False, figsize=(15,10), color='#86bf91', \n",
    "                    zorder=2, rwidth=0.9)"
   ]
  },
  {
   "cell_type": "markdown",
   "id": "59f2592d-6c31-4934-9bf8-97e5fafe7d82",
   "metadata": {},
   "source": [
    "<div class=\"alert alert-info\" role=\"alert\">\n",
    "\n",
    "## <a id='section3'></a>3. Train the models\n",
    "[Back to top](#TOC_TOP)\n",
    "\n",
    "</div>"
   ]
  },
  {
   "cell_type": "code",
   "execution_count": null,
   "id": "66ada0a6",
   "metadata": {},
   "outputs": [],
   "source": [
    "#Import function from ml_regression\n",
    "from ml.ml_regression import train_models"
   ]
  },
  {
   "cell_type": "code",
   "execution_count": null,
   "id": "48ab02aa",
   "metadata": {},
   "outputs": [],
   "source": [
    "#Train models specified in 'train_models' (contains different combiantion of data)\n",
    "train_models()"
   ]
  },
  {
   "cell_type": "markdown",
   "id": "c9bff887-dc25-4be7-b418-db7e7c086fff",
   "metadata": {},
   "source": [
    "<hr>\n",
    "<a href=\"../../Index.ipynb\"><< Index</a>\n",
    "<br>\n",
    "<a href=\"./README.ipynb\" target=\"_blank\"><< README</a>&nbsp;&nbsp;&nbsp;&nbsp;&nbsp;<a href=\"./2_Statistics_analysis.ipynb\" target=\"_blank\">Statistics and analysis >></a>\n",
    "<hr>\n",
    "<a href=\"https://github.com/wekeo/liege-colloquium-23\" target=\"_blank\">View on GitHub</a> | <a href=\"https://training.eumetsat.int/\" target=\"_blank\">EUMETSAT Training</a> | <a href=mailto:ops@eumetsat.int target=\"_blank\">Contact helpdesk for support </a> | <a href=mailto:Copernicus.training@eumetsat.int target=\"_blank\">Contact our training team to collaborate on and reuse this material</a></span></p>"
   ]
  }
 ],
 "metadata": {
  "kernelspec": {
   "display_name": "Python 3 (ipykernel)",
   "language": "python",
   "name": "python3"
  },
  "language_info": {
   "codemirror_mode": {
    "name": "ipython",
    "version": 3
   },
   "file_extension": ".py",
   "mimetype": "text/x-python",
   "name": "python",
   "nbconvert_exporter": "python",
   "pygments_lexer": "ipython3",
   "version": "3.9.16"
  }
 },
 "nbformat": 4,
 "nbformat_minor": 5
}

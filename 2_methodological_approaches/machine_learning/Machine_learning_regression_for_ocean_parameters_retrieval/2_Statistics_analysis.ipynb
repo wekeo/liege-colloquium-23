{
 "cells": [
  {
   "cell_type": "markdown",
   "id": "72b4c8ab-8538-4181-a510-562e341acfd1",
   "metadata": {},
   "source": [
    "<img src='https://gitlab.eumetsat.int/eumetlab/oceans/ocean-training/tools/frameworks/-/raw/main/img/Standard_banner.png' align='right' width='100%'/>"
   ]
  },
  {
   "cell_type": "markdown",
   "id": "a218489c-1029-48f4-8567-3e9de5e2e536",
   "metadata": {},
   "source": [
    "<a href=\"../../Index.ipynb\"><< Index</a>\n",
    "<br>\n",
    "<a href=\"./1_Load_and_visualize_data.ipynb\"><< Load and visualise data</a>&nbsp;&nbsp;&nbsp;&nbsp;&nbsp;<a href=\"./3_WQ_predict_image.ipynb\" target=\"_blank\">Water quality Prediction >></a>"
   ]
  },
  {
   "cell_type": "markdown",
   "id": "d76a0a26-c921-4890-a3e3-4f6adbce9d85",
   "metadata": {},
   "source": [
    "<font color=\"#138D75\">**Copernicus Marine Training Service**</font> <br>\n",
    "**Copyright:** 2023 EUMETSAT <br>\n",
    "**License:** MIT <br>\n",
    "**Authors:** Ben Loveday (EUMETSAT/Innoflair UG), Hayley Evers-King (EUMETSAT), Ana Ruescas (Brockmann Consult GmbH / University of Valencia)."
   ]
  },
  {
   "cell_type": "markdown",
   "id": "033297ae-f33a-4be7-becf-04bd0b03308f",
   "metadata": {},
   "source": [
    "<div class=\"alert alert-block alert-success\">\n",
    "<h3>Liege Colloquium 2023</h3></div>"
   ]
  },
  {
   "cell_type": "markdown",
   "id": "4f993826-0dd4-447b-98d9-9ad8302efc96",
   "metadata": {},
   "source": [
    "<div class=\"alert alert-block alert-warning\">\n",
    "    \n",
    "<b>PREREQUISITES </b>\n",
    "\n",
    "The following modules are prerequisites for this notebook:\n",
    "  - **<a href=\"./1_Load_and_visualize_data.ipynb\">Load and visualise data</a>**\n",
    "    \n",
    "</div>\n",
    "<hr>"
   ]
  },
  {
   "cell_type": "markdown",
   "id": "732555a1",
   "metadata": {},
   "source": [
    "# Table of Contents\n",
    "* [Load data](#Load-data)\n",
    "* [Load models](#Load-models)\n",
    "* [Show errors](#Errors)\n",
    "* [Boxplots](#Boxplots-residuals)\n",
    "* [Permutation plots](#Permutation-plots)\n",
    "* [Runtime plots](#Runtime-analysis)"
   ]
  },
  {
   "cell_type": "code",
   "execution_count": 1,
   "id": "dfc899dc",
   "metadata": {},
   "outputs": [],
   "source": [
    "import os\n",
    "import numpy as np\n",
    "import matplotlib.pyplot as plt\n",
    "import joblib\n",
    "import warnings\n",
    "import pandas as pd\n",
    "import seaborn as sns\n",
    "warnings.filterwarnings(\"ignore\")\n",
    "\n",
    "from ml import data_load_S3, models, ml_regression, Py4R_plots"
   ]
  },
  {
   "cell_type": "markdown",
   "id": "18655738",
   "metadata": {},
   "source": [
    "## Load data\n",
    "[Table of Contents](#Table-of-Contents)"
   ]
  },
  {
   "cell_type": "code",
   "execution_count": 2,
   "id": "8939572d",
   "metadata": {},
   "outputs": [],
   "source": [
    "##Load the input data and split in training and test\n",
    "data_X_train, data_X_test, data_y_train, data_y_test = data_load_S3.load_C2X()\n",
    "mean_y_train = np.mean(data_y_train)"
   ]
  },
  {
   "cell_type": "markdown",
   "id": "85d3889b",
   "metadata": {},
   "source": [
    "## Load models\n",
    "[Table of Contents](#Table-of-Contents)"
   ]
  },
  {
   "cell_type": "code",
   "execution_count": 3,
   "id": "ce7e0fe2",
   "metadata": {},
   "outputs": [
    {
     "ename": "AttributeError",
     "evalue": "'dict' object has no attribute 'ALL_NAME_MODELS'",
     "output_type": "error",
     "traceback": [
      "\u001b[0;31m---------------------------------------------------------------------------\u001b[0m",
      "\u001b[0;31mAttributeError\u001b[0m                            Traceback (most recent call last)",
      "Cell \u001b[0;32mIn[3], line 5\u001b[0m\n\u001b[1;32m      3\u001b[0m table_preds \u001b[38;5;241m=\u001b[39m {}\n\u001b[1;32m      4\u001b[0m \u001b[38;5;28;01mfor\u001b[39;00m bands_name \u001b[38;5;129;01min\u001b[39;00m data_load_S3\u001b[38;5;241m.\u001b[39mbands_try_C2X:\n\u001b[0;32m----> 5\u001b[0m     \u001b[38;5;28;01mfor\u001b[39;00m model \u001b[38;5;129;01min\u001b[39;00m \u001b[43mmodels\u001b[49m\u001b[38;5;241;43m.\u001b[39;49m\u001b[43mALL_NAME_MODELS\u001b[49m:\n\u001b[1;32m      6\u001b[0m         file_model \u001b[38;5;241m=\u001b[39m os\u001b[38;5;241m.\u001b[39mpath\u001b[38;5;241m.\u001b[39mjoin(data_load_S3\u001b[38;5;241m.\u001b[39mPATH_TO_MODELS_C2X,\n\u001b[1;32m      7\u001b[0m                                   model\u001b[38;5;241m+\u001b[39m\u001b[38;5;124m'\u001b[39m\u001b[38;5;124m_\u001b[39m\u001b[38;5;124m'\u001b[39m\u001b[38;5;241m+\u001b[39mbands_name\u001b[38;5;241m+\u001b[39m\u001b[38;5;124m'\u001b[39m\u001b[38;5;124m_CHL.pkl\u001b[39m\u001b[38;5;124m'\u001b[39m)\n\u001b[1;32m      8\u001b[0m         \u001b[38;5;28;01mif\u001b[39;00m \u001b[38;5;129;01mnot\u001b[39;00m os\u001b[38;5;241m.\u001b[39mpath\u001b[38;5;241m.\u001b[39mexists(file_model):\n",
      "\u001b[0;31mAttributeError\u001b[0m: 'dict' object has no attribute 'ALL_NAME_MODELS'"
     ]
    }
   ],
   "source": [
    "##Load the all the models trained and stored in the 'models' folder\n",
    "models = {}\n",
    "table_preds = {}\n",
    "for bands_name in data_load_S3.bands_try_C2X:\n",
    "    for model in models.ALL_NAME_MODELS:\n",
    "        file_model = os.path.join(data_load_S3.PATH_TO_MODELS_C2X,\n",
    "                                  model+'_'+bands_name+'_CHL.pkl')\n",
    "        if not os.path.exists(file_model):\n",
    "            print(\"File %s does not exist\"%file_model)\n",
    "            continue\n",
    "        \n",
    "        print(\"Loading model & make test preds from file %s\"%file_model)\n",
    "        \n",
    "        regressor_sklearn = joblib.load(file_model)\n",
    "        models[model+\"_\"+bands_name] =regressor_sklearn \n",
    "\n",
    "        table_preds[model+\"_\"+bands_name] = regressor_sklearn.predict(data_X_test[data_load_S3.bands_try_C2X[bands_name]])+mean_y_train\n",
    "\n",
    "table_preds = pd.DataFrame(table_preds)"
   ]
  },
  {
   "cell_type": "code",
   "execution_count": null,
   "id": "8ccb350b",
   "metadata": {},
   "outputs": [],
   "source": [
    "##Visualize prediction by data points and models (test dataset)\n",
    "table_preds"
   ]
  },
  {
   "cell_type": "markdown",
   "id": "26aa99b5",
   "metadata": {},
   "source": [
    "## Errors\n",
    "[Table of Contents](#Table-of-Contents)"
   ]
  },
  {
   "cell_type": "code",
   "execution_count": null,
   "id": "b46d24a9",
   "metadata": {},
   "outputs": [],
   "source": [
    "##Load and define the metrics to be used\n",
    "from sklearn.metrics import r2_score, mean_absolute_error, mean_squared_error\n",
    "from scipy.stats import pearsonr\n",
    "bands_ordered = ['S3bands']\n",
    "datos = []\n",
    "\n",
    "def pearson(y_true,y_pred):\n",
    "    val,_ = pearsonr(y_true,y_pred)\n",
    "    return val\n",
    "\n",
    "def root_mean_squared_error(y_true,y_pred):\n",
    "    return np.sqrt(mean_squared_error(y_true,y_pred))\n",
    "\n",
    "def rmse_rel(y_true,y_pred):\n",
    "    return np.sqrt(np.mean(((y_pred - y_true) / y_true) ** 2))\n",
    "\n",
    "def bias(y_true,y_pred):\n",
    "    return np.mean(y_pred - y_true)\n",
    "\n",
    "   \n",
    "metrics = [r2_score,bias, mean_absolute_error,pearson,\n",
    "           root_mean_squared_error,rmse_rel ]"
   ]
  },
  {
   "cell_type": "code",
   "execution_count": null,
   "id": "206eb6ee",
   "metadata": {},
   "outputs": [],
   "source": [
    "##Calculate metrics by dataset and model (training vs. test)\n",
    "for b in bands_ordered:\n",
    "    p = len(data_load_S3.bands_try_C2X[b])\n",
    "    for m in models.ALL_NAME_MODELS:\n",
    "        dato = {\"model\":m,\"band\":b}\n",
    "        for metric in metrics:\n",
    "            if m+\"_\"+b in table_preds:\n",
    "                dato[metric.__name__] = metric(data_y_test,table_preds[m+\"_\"+b].values)\n",
    "        \n",
    "        n = data_X_train.shape[0]\n",
    "        if \"r2_score\" in dato:\n",
    "            dato[\"r2_adjusted\"] = 1-(1-dato[\"r2_score\"])*(n-1)/(n-p-1)\n",
    "        \n",
    "        if len(dato.keys())>2:\n",
    "            datos.append(dato)\n",
    "            \n",
    "datos = pd.DataFrame(datos)  \n",
    "datos.set_index([\"band\",\"model\"])"
   ]
  },
  {
   "cell_type": "markdown",
   "id": "9919c74e",
   "metadata": {},
   "source": [
    "## Boxplots (residuals)\n",
    "[Table of Contents](#Table-of-Contents)"
   ]
  },
  {
   "cell_type": "code",
   "execution_count": null,
   "id": "d983a961",
   "metadata": {},
   "outputs": [],
   "source": [
    "##Residuals of the models to be plotted\n",
    "table_residuals = table_preds.copy()\n",
    "\n",
    "for c in table_preds.columns:\n",
    "    table_residuals[c] = table_preds[c] - data_y_test\n",
    "\n",
    "table_residuals = pd.melt(table_residuals,var_name=\"model_band\")\n",
    "table_residuals[\"model\"] = table_residuals[\"model_band\"].apply(lambda x: x.split(\"_\")[0])\n",
    "table_residuals[\"band\"] = table_residuals[\"model_band\"].apply(lambda x: \"_\".join(x.split(\"_\")[1:]))"
   ]
  },
  {
   "cell_type": "code",
   "execution_count": null,
   "id": "f6bf9364",
   "metadata": {},
   "outputs": [],
   "source": [
    "table_residuals=table_residuals.dropna()\n",
    "table_residuals.head()"
   ]
  },
  {
   "cell_type": "code",
   "execution_count": null,
   "id": "656938aa",
   "metadata": {},
   "outputs": [],
   "source": [
    "##Boxplot the residuals: the narrower the plot the better\n",
    "fig,axs = plt.subplots(1,1,figsize=(8,4))\n",
    "lab = \"S3bands\"\n",
    "sns.boxplot(x=\"model\",y=\"value\",data=table_residuals[table_residuals[\"band\"] == lab],\n",
    "                order=[m for m in models.ALL_NAME_MODELS if m != \"Polyfit\"],ax=axs,fliersize=0)\n",
    "axs.set_xlabel(\"\")\n",
    "axs.set_ylabel(\"\")\n",
    "axs.set_title(lab)\n",
    "axs.yaxis.grid(color='lightgrey', linestyle='dashed')\n",
    "axs.set_ylim(-15,15)"
   ]
  },
  {
   "cell_type": "markdown",
   "id": "35235fc1",
   "metadata": {},
   "source": [
    "## Permutation plots\n",
    "[Table of Contents](#Table-of-Contents)"
   ]
  },
  {
   "cell_type": "code",
   "execution_count": null,
   "id": "266d3f6d",
   "metadata": {},
   "outputs": [],
   "source": [
    "##Numpy. random. permutation() function gives us the random samples of a sequence of permutation and returns sequence by using this method.\n",
    "##Comparable methods are the RF feature importance or permutation_importance \n",
    "##https://scikit-learn.org/stable/auto_examples/inspection/plot_permutation_importance.html\n",
    "\n",
    "sal = []\n",
    "for m in ['RLR', 'RFR']:#'KRR'\n",
    "    for b in [\"S3bands\"]:\n",
    "        model = m+\"_\"+b\n",
    "        sal_ = Py4R_plots.permutation_test( models[model],\n",
    "                                  data_X_test[data_load_S3.bands_try_C2X[b]], \n",
    "                                  data_y_test-mean_y_train)\n",
    "        sal_[\"band\"] = b\n",
    "        sal_[\"model\"] = m\n",
    "        sal.append(sal_)\n",
    "\n",
    "sal = pd.concat(sal,axis=0)\n",
    "sal.head()"
   ]
  },
  {
   "cell_type": "code",
   "execution_count": null,
   "id": "61038a69",
   "metadata": {},
   "outputs": [],
   "source": [
    "##Plotting the feature importance\n",
    "fig,axs = plt.subplots(2,1,figsize=(10,20))\n",
    "axs = axs.flatten()\n",
    "for ax,model in zip(axs,[m+\"_\"+b for m in ['RLR', 'RFR'] for b in [\"S3bands\"]]):\n",
    "    b = model.split(\"_\")[1]\n",
    "    m = model.split(\"_\")[0]\n",
    "    sns.barplot(x=\"variable\", y=\"mean_absolute_error\", data=sal[(sal[\"band\"] == b) & (sal[\"model\"] == m)],\n",
    "                ax=ax)\n",
    "    ax.yaxis.grid(color='lightgrey', linestyle='dashed')\n",
    "    ax.patch.set_facecolor('white')\n",
    "    ax.set_ylabel(\"MAE\")\n",
    "    ax.set_xlabel(\"\")\n",
    "    ax.set_title(model)\n",
    "    ax.set_xticklabels(ax.get_xticklabels(), rotation=30)\n",
    "\n",
    "plt.subplots_adjust(bottom=0.25)"
   ]
  },
  {
   "cell_type": "markdown",
   "id": "f48bbefd",
   "metadata": {},
   "source": [
    "## Predicted vs measured plots\n",
    "[Table of Contents](#Table-of-Contents)"
   ]
  },
  {
   "cell_type": "code",
   "execution_count": null,
   "id": "edeaa6bc",
   "metadata": {},
   "outputs": [],
   "source": [
    "#from ml import Py4R_plots\n",
    "##Generation of linear regression or scatter plots to compare measured vs. predicted values\n",
    "fig,axs = plt.subplots(1,2,figsize=(12,6))\n",
    "\n",
    "axs = axs.flatten()\n",
    "for ax,model in zip(axs,[\"RLR_S3bands\",\"RFR_S3bands\"]):\n",
    "    Py4R_plots.correlative_plot(table_preds[model],data_y_test,ax=ax)\n",
    "    ax.set_title(model)"
   ]
  },
  {
   "cell_type": "markdown",
   "id": "ce106bfd-cffb-468b-8d56-ec842f6f8e12",
   "metadata": {},
   "source": [
    "<hr>\n",
    "<a href=\"../../Index.ipynb\"><< Index</a>\n",
    "<br>\n",
    "<a href=\"./1_Load_and_visualize_data.ipynb\"><< Load and visualise data</a>&nbsp;&nbsp;&nbsp;&nbsp;&nbsp;<a href=\"./3_WQ_predict_image.ipynb\" target=\"_blank\">Water quality Prediction >></a>\n",
    "<hr>\n",
    "<a href=\"https://github.com/wekeo/liege-colloquium-23\" target=\"_blank\">View on GitHub</a> | <a href=\"https://training.eumetsat.int/\" target=\"_blank\">EUMETSAT Training</a> | <a href=mailto:ops@eumetsat.int target=\"_blank\">Contact helpdesk for support </a> | <a href=mailto:Copernicus.training@eumetsat.int target=\"_blank\">Contact our training team to collaborate on and reuse this material</a></span></p>"
   ]
  }
 ],
 "metadata": {
  "kernelspec": {
   "display_name": "Python 3 (ipykernel)",
   "language": "python",
   "name": "python3"
  },
  "language_info": {
   "codemirror_mode": {
    "name": "ipython",
    "version": 3
   },
   "file_extension": ".py",
   "mimetype": "text/x-python",
   "name": "python",
   "nbconvert_exporter": "python",
   "pygments_lexer": "ipython3",
   "version": "3.9.16"
  }
 },
 "nbformat": 4,
 "nbformat_minor": 5
}

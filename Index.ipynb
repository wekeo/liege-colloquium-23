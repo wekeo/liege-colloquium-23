{
 "cells": [
  {
   "cell_type": "markdown",
   "metadata": {
    "Collapsed": "false"
   },
   "source": [
    "<img src='https://gitlab.eumetsat.int/eumetlab/oceans/ocean-training/tools/frameworks/-/raw/main/img/Standard_banner.png' align='right' width='100%'/>"
   ]
  },
  {
   "cell_type": "markdown",
   "metadata": {},
   "source": [
    "<font color=\"#138D75\">**Copernicus Marine Training Service**</font> <br>\n",
    "**Copyright:** 2023 EUMETSAT <br>\n",
    "**License:** MIT <br>\n",
    "**Authors:** Ben Loveday (EUMETSAT/Innoflair UG), Hayley Evers-King (EUMETSAT), Ana Ruescas (Brockmann Consult GmbH / University of Valencia), Aida Alvera-Azcárate (GHER) , Kevin Ruddick (RBINS)."
   ]
  },
  {
   "cell_type": "markdown",
   "metadata": {},
   "source": [
    "<div class=\"alert alert-block alert-success\">\n",
    "<h3>Liege Colloquium 2023</h3></div>"
   ]
  },
  {
   "cell_type": "markdown",
   "metadata": {
    "Collapsed": "false"
   },
   "source": [
    "# Index for the liege-colloquium-23 module\n",
    "\n",
    "### About Liege Colloquium 2023\n",
    "\n",
    "This module contains a collection of tools and Jupyter Notebooks to support EUMETSAT machine learning training course at the <a href=\"https://www.ocean-colloquium.uliege.be/cms/c_14229949/en/international-liege-colloquium-on-ocean-dynamics\" target=\"_blank\">54th International Liège Colloquium on Ocean Dynamics</a>.\n",
    "\n",
    "**Warning: This module is temporary; however, all of it's contents will shortly be reployed in the ocean-colour-applications and sea-surface-temperature applications repositories, which will also be made available through WEkEO.**\n",
    "\n",
    "<hr>\n",
    "\n",
    "### How to use this material\n",
    "\n",
    "This module is based around a series of <a href=\"https://jupyter.org/\" target=\"_blank\">Jupyter Notebooks</a>. These support high-level interactive learning by allowing us to combine code, text descriptions and data visualisations. If you have not worked with Jupyter Notebooks before, please look at the\n",
    "\n",
    "<a href=\"./working-with-python/Intro_to_Python_and_Jupyter.ipynb\" target=\"_blank\">Introduction to Python and Project Jupyter</a> module to get a short introduction to their usage and benefits. Refer to this module's **README** for further information on how to set up Jupyter.\n",
    "\n",
    "This module is split in to **two** parts, focussed on:\n",
    "* <font color=\"#1F618D\">**conceptual models**</font> based on Earth observation theory\n",
    "* <font color=\"#1E8449\">**methodological processes**</font> detailing specific approaches to working with Earth observation data\n",
    "\n",
    "<hr>\n",
    "\n",
    "### Learning outcomes\n",
    "\n",
    "From this module, you can expect to learn:\n",
    "* How to use a series of machine learning techniques to work with Earth observation data from Level-1b to Level-4.\n",
    "\n",
    "<hr>"
   ]
  },
  {
   "cell_type": "markdown",
   "metadata": {},
   "source": [
    "<div class=\"alert alert-info\" role=\"alert\">\n",
    "\n",
    "## <a id='TOC_TOP'></a>Contents\n",
    "\n",
    "</div>\n",
    "\n",
    "### <font color=\"#1F618D\">**Conceptual models**</font>\n",
    "\n",
    "* <a href=\"./1_conceptual_models/Ocean_colour_forward_model/Run_model.ipynb\" target=\"_blank\">Ocean colour forward model</a>\n",
    "\n",
    "### <font color=\"#1E8449\">**Methodological processes**</font>\n",
    "\n",
    "* <a href=\"./2_methodological_approaches/dineof/README.ipynb\" target=\"_blank\">Reconstrucing SST fields using DINEOF</a>\n",
    "* <a href=\"./2_methodological_approaches/machine_learning/Bayesian_classification_of_water_types/Using_ML_for_water_type_identification.ipynb\" target=\"_blank\">Naive Bayesian classification of water types</a>\n",
    "* <a href=\"./2_methodological_approaches/machine_learning/Combining_S2_S3_MDN/Using_MDN_to_combine_S3_S3_chl_retrievals_in_coastal_waters.ipynb\" target=\"_blank\">Combining Sentinel-3 and Sentinel-2 CHL retrievals with Mixture Density Networks</a>\n",
    "* <a href=\"./2_methodological_approaches/machine_learning/Machine_learning_regression_for_ocean_parameters_retrieval/README.ipynb\" target=\"_blank\">Machine learning regression for ocean parameter retrievals</a>\n",
    "* <a href=\".2_methodological_approaches/machine_learning/Neural_network_complex_water_parameters_C2RCC/Using_ML_to_retrieve_water_quality_indicators_in_coastal_waters.ipynb\" target=\"_blank\">C2RCC: Neural networks for complex water retrievals</a>"
   ]
  },
  {
   "cell_type": "markdown",
   "metadata": {},
   "source": [
    "<hr>\n",
    "<a href=\"https://github.com/wekeo/liege-colloquium-23\">View on GitHub</a> | <a href=\"https://training.eumetsat.int/\">EUMETSAT Training</a> | <a href=mailto:ops@eumetsat.int>Contact helpdesk for support </a> | <a href=mailto:Copernicus.training@eumetsat.int>Contact our training team to collaborate on and reuse this material</a></span></p>"
   ]
  }
 ],
 "metadata": {
  "kernelspec": {
   "display_name": "Python 3 (ipykernel)",
   "language": "python",
   "name": "python3"
  },
  "language_info": {
   "codemirror_mode": {
    "name": "ipython",
    "version": 3
   },
   "file_extension": ".py",
   "mimetype": "text/x-python",
   "name": "python",
   "nbconvert_exporter": "python",
   "pygments_lexer": "ipython3",
   "version": "3.9.16"
  }
 },
 "nbformat": 4,
 "nbformat_minor": 4
}

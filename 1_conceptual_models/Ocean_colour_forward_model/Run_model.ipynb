{
 "cells": [
  {
   "cell_type": "markdown",
   "id": "fd012d10",
   "metadata": {},
   "source": [
    "<img src='https://gitlab.eumetsat.int/eumetlab/oceans/ocean-training/tools/frameworks/-/raw/main/img/RBINS_banner.png' align='right' width='100%'/>"
   ]
  },
  {
   "cell_type": "markdown",
   "id": "2aaf5d57",
   "metadata": {},
   "source": [
    "<font color=\"#138D75\">**Copernicus Marine Training Service**</font> <br>\n",
    "**Copyright:** 2022 EUMETSAT, RBINS <br>\n",
    "**License:** MIT <br>\n",
    "**Authors:** Ben Loveday (EUMETSAT/Innoflair UG), Hayley Evers-King (EUMETSAT), Kevin Ruddick (RBINS)"
   ]
  },
  {
   "cell_type": "markdown",
   "id": "22037f27",
   "metadata": {},
   "source": [
    "<div class=\"alert alert-block alert-success\">\n",
    "<h3>Ocean colour applications</h3></div>"
   ]
  },
  {
   "cell_type": "markdown",
   "id": "c590dc15",
   "metadata": {},
   "source": [
    "<div class=\"alert alert-block alert-warning\">\n",
    "    \n",
    "<b>PREREQUISITES </b>\n",
    "    \n",
    "This notebook has the following prerequisites:\n",
    "- You should have built and activated the appropriate `cmts_ocean_colour_applications` or `liege_colloquium_23` Python environment in either your command line, or in the Anaconda navigator prior to launching this notebook.\n",
    "\n",
    "</div>\n",
    "<hr>"
   ]
  },
  {
   "cell_type": "markdown",
   "id": "9905be0b",
   "metadata": {},
   "source": [
    "# Ocean Colour Forward Model\n",
    "\n",
    "### Learning objectives\n",
    "\n",
    "* To learn how the colour of water is affected by its constituents and hence how optical remote sensing can be used to estimate concentrations of chlorophyll-a (CHL) and total suspended particulate matter (TSM) and related parameters!\n",
    "\n",
    "### Outline\n",
    "\n",
    "Changes in the concentration of chlorophyll (Chl), coloured dissolved organic matter (CDOM) and non-algae particles (NAP, e.g. sediment) in water have a marked effect on its colour. These changes are measurable by us, as observers, and by ocean colour satellites. When we know the concentrations of these consituents, **forward modelling** allows us to simulate the spectrally dependant inherent optical properties of the consituents (primarily absorption and scattering), and in turn determine the reflectance, the apparent optical property we typically measure from space and with in situ radiometry instruments.\n",
    "\n",
    "In this notebook we construct a forward model based on three consituents; Chl, CDOM (measured at 443 nm) and NAP. By varying these quantities we are able to see the resulting changes in the absorption (*a*), backscattering (*b*) and remote sensing reflectance (*R$_{rs}$*) spectra observed at the ocean surface. This can give an understanding of how the ocean colour signal can vary, how sensitive it is to changes in different constituents, and how it might be exploited through multi and hyperspectral satellite measurements and geophysical retrieval algorithms.\n",
    "\n",
    "### Disclaimer\n",
    "\n",
    "This ocean colour model gives a first order understanding of variability of ocean colour as function of chlorophyll a concentration, non-algae particle concentration and Coloured Dissolved Organic Matter absorption. It is based on an approximate reflectance model assuming no bottom reflectance, no inelastic scattering, vertically homogeneity and a fixed model for specific inherent optical properties. It is intended for educational purposes only and should not be used for ocean colour data processing or for research grade ocean colour publications. For the latter full radiative transfer simulations should be made, e.g. using HYDROLIGHT (water), 6SV (atmosphere) or similar models!\n",
    "\n",
    "<div class=\"alert alert-info\" role=\"alert\">\n",
    "\n",
    "## <a id='TOC_TOP'></a>Contents\n",
    "\n",
    "</div>\n",
    "    \n",
    " 1. [Setting up the model](#section1)\n",
    " 1. [Running the model](#section2)\n",
    "\n",
    "<hr>"
   ]
  },
  {
   "cell_type": "markdown",
   "id": "cbde77c2",
   "metadata": {},
   "source": [
    "<div class=\"alert alert-info\" role=\"alert\">\n",
    "\n",
    "## <a id='section1'></a>1. Setting up the model\n",
    "[Back to top](#TOC_TOP)\n",
    "\n",
    "</div>"
   ]
  },
  {
   "cell_type": "markdown",
   "id": "37edf1f1",
   "metadata": {},
   "source": [
    "The forward model is built entirely in Python and can be simply imported using the single line below. Should you wish to explore the code, you can find the models modules in the `forward_model` folder in the same directory of this notebook. "
   ]
  },
  {
   "cell_type": "code",
   "execution_count": 1,
   "id": "602e5727",
   "metadata": {},
   "outputs": [],
   "source": [
    "%matplotlib widget\n",
    "import forward_model"
   ]
  },
  {
   "cell_type": "markdown",
   "id": "02726cb8",
   "metadata": {},
   "source": [
    "Now that the components of the model are imported we can initialise it using the `forward_model.ForwardModel()` method. We shall choose to save this into a variable called `model` so that we can manipulate some of its attributes, should we want to.\n",
    "\n",
    "*Note: For example, if you want to change the ylimits of the Rrs axis you can use `model.ax_rrs.set_ylim([lower, upper])`*"
   ]
  },
  {
   "cell_type": "code",
   "execution_count": 2,
   "id": "fe34b37b",
   "metadata": {},
   "outputs": [],
   "source": [
    "model = forward_model.ForwardModel()"
   ]
  },
  {
   "cell_type": "markdown",
   "id": "64be01e4",
   "metadata": {},
   "source": [
    "<div class=\"alert alert-info\" role=\"alert\">\n",
    "\n",
    "## <a id='section2'></a>2. Running the model\n",
    "[Back to top](#TOC_TOP)\n",
    "\n",
    "</div>"
   ]
  },
  {
   "cell_type": "markdown",
   "id": "8b30eb1d",
   "metadata": {},
   "source": [
    "The model is now fully set up, and we can run/display it just by calling the model object, as follows. You can interact with the model using the sliders in the left hand panel. Manipulating these influence the traces in the right hand panel. If you want to save a spectra you create, you can use the \"Save spectra\" button, this will output your spectra to a text file called Saved_spectra.txt in the current directory. The buttons have the following functionalities:\n",
    "\n",
    "* `Show sample R$_{rs}$ spectra`: shows the hyperspectral R$_{rs}$ examples included in the model.\n",
    "* `Show user R$_{rs}$ spectra`: shows the example multi-spectral examples included in the model.**\n",
    "* `Show saved R$_{rs}$ spectra`: shows the hyperspectral R$_{rs}$ you have saved.\n",
    "\n",
    "**Note: For user spectra, please use the following key;\n",
    "* red triangles: \"L8\"\n",
    "* blue squares: \"S2\"\n",
    "* magenta circles: user defined\n",
    "* grey points: saved R$_{rs}$ spectra from the previous run\n",
    "\n",
    "\n",
    "See what spectra you can create!"
   ]
  },
  {
   "cell_type": "code",
   "execution_count": 3,
   "id": "4b99f7cb",
   "metadata": {},
   "outputs": [
    {
     "data": {
      "application/vnd.jupyter.widget-view+json": {
       "model_id": "053add1319774f8cb67d02111739a4d5",
       "version_major": 2,
       "version_minor": 0
      },
      "text/plain": [
       "ForwardModel(children=(VBox(children=(FloatLogSlider(value=1.0, description='Chl', max=3.0, min=-2.0, step=0.0…"
      ]
     },
     "execution_count": 3,
     "metadata": {},
     "output_type": "execute_result"
    }
   ],
   "source": [
    "model"
   ]
  },
  {
   "cell_type": "markdown",
   "id": "08a88f82",
   "metadata": {},
   "source": [
    "<a href=\"https://gitlab.com/benloveday/oc_forward_model\" target=\"_blank\">View on GitLab</a> | <a href=\"https://training.eumetsat.int/\" target=\"_blank\">EUMETSAT Training</a> | <a href=mailto:ops@eumetsat.int target=\"_blank\">Contact helpdesk for support </a> | <a href=mailto:Copernicus.training@eumetsat.int target=\"_blank\">Contact our training team to collaborate on and reuse this material</a></span></p>"
   ]
  }
 ],
 "metadata": {
  "kernelspec": {
   "display_name": "Python 3 (ipykernel)",
   "language": "python",
   "name": "python3"
  },
  "language_info": {
   "codemirror_mode": {
    "name": "ipython",
    "version": 3
   },
   "file_extension": ".py",
   "mimetype": "text/x-python",
   "name": "python",
   "nbconvert_exporter": "python",
   "pygments_lexer": "ipython3",
   "version": "3.9.16"
  }
 },
 "nbformat": 4,
 "nbformat_minor": 5
}
